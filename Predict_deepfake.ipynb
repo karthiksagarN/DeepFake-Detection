{
  "cells": [
    {
      "cell_type": "markdown",
      "metadata": {
        "colab_type": "text",
        "id": "view-in-github"
      },
      "source": [
        "<a href=\"https://colab.research.google.com/github/karthiksagarN/DeepFake-Detection/blob/main/Predict_deepfake.ipynb\" target=\"_parent\"><img src=\"https://colab.research.google.com/assets/colab-badge.svg\" alt=\"Open In Colab\"/></a>"
      ]
    },
    {
      "cell_type": "code",
      "execution_count": 1,
      "metadata": {
        "colab": {
          "base_uri": "https://localhost:8080/"
        },
        "id": "333ebdIxhL7i",
        "outputId": "d0695f8c-2674-423f-ea5a-4c5f3da0790c"
      },
      "outputs": [
        {
          "name": "stdout",
          "output_type": "stream",
          "text": [
            "Mounted at /content/drive\n"
          ]
        }
      ],
      "source": [
        "from google.colab import drive\n",
        "drive.mount('/content/drive')"
      ]
    },
    {
      "cell_type": "code",
      "execution_count": 2,
      "metadata": {
        "colab": {
          "base_uri": "https://localhost:8080/"
        },
        "id": "WOVzBSY5i-Ha",
        "outputId": "53db8ea9-ce74-4c92-8a3d-0c4e54f75979"
      },
      "outputs": [
        {
          "name": "stdout",
          "output_type": "stream",
          "text": [
            "Collecting face_recognition\n",
            "  Downloading face_recognition-1.3.0-py2.py3-none-any.whl (15 kB)\n",
            "Collecting face-recognition-models>=0.3.0 (from face_recognition)\n",
            "  Downloading face_recognition_models-0.3.0.tar.gz (100.1 MB)\n",
            "\u001b[2K     \u001b[90m━━━━━━━━━━━━━━━━━━━━━━━━━━━━━━━━━━━━━━━━\u001b[0m \u001b[32m100.1/100.1 MB\u001b[0m \u001b[31m17.0 MB/s\u001b[0m eta \u001b[36m0:00:00\u001b[0m\n",
            "\u001b[?25h  Preparing metadata (setup.py) ... \u001b[?25l\u001b[?25hdone\n",
            "Requirement already satisfied: Click>=6.0 in /usr/local/lib/python3.10/dist-packages (from face_recognition) (8.1.7)\n",
            "Requirement already satisfied: dlib>=19.7 in /usr/local/lib/python3.10/dist-packages (from face_recognition) (19.24.4)\n",
            "Requirement already satisfied: numpy in /usr/local/lib/python3.10/dist-packages (from face_recognition) (1.25.2)\n",
            "Requirement already satisfied: Pillow in /usr/local/lib/python3.10/dist-packages (from face_recognition) (9.4.0)\n",
            "Building wheels for collected packages: face-recognition-models\n",
            "  Building wheel for face-recognition-models (setup.py) ... \u001b[?25l\u001b[?25hdone\n",
            "  Created wheel for face-recognition-models: filename=face_recognition_models-0.3.0-py2.py3-none-any.whl size=100566170 sha256=d5ccaa7d6ff2786e5267970d117bcf9cf68d15236f408f138fccc139a9afd68d\n",
            "  Stored in directory: /root/.cache/pip/wheels/7a/eb/cf/e9eced74122b679557f597bb7c8e4c739cfcac526db1fd523d\n",
            "Successfully built face-recognition-models\n",
            "Installing collected packages: face-recognition-models, face_recognition\n",
            "Successfully installed face-recognition-models-0.3.0 face_recognition-1.3.0\n"
          ]
        }
      ],
      "source": [
        "!pip install face_recognition"
      ]
    },
    {
      "cell_type": "markdown",
      "metadata": {
        "id": "PfTz6kQFU3qh"
      },
      "source": [
        "## PREDICTION"
      ]
    },
    {
      "cell_type": "code",
      "execution_count": 1,
      "metadata": {
        "id": "WfBhi-AHiyFN"
      },
      "outputs": [],
      "source": [
        "import warnings\n",
        "warnings.filterwarnings('ignore')\n",
        "import torch\n",
        "from torch import nn\n",
        "from torch.autograd import Variable\n",
        "import torchvision\n",
        "from torchvision import models\n",
        "from torchvision import transforms\n",
        "from torch.utils.data import DataLoader\n",
        "from torch.utils.data.dataset import Dataset\n",
        "import os\n",
        "import sys\n",
        "import time\n",
        "import pandas as pd\n",
        "import numpy as np\n",
        "import cv2\n",
        "import matplotlib.pyplot as plt\n",
        "import face_recognition"
      ]
    },
    {
      "cell_type": "code",
      "execution_count": 2,
      "metadata": {
        "id": "t0AngkyEi9qK"
      },
      "outputs": [],
      "source": [
        "#Model with feature visualization\n",
        "from torch import nn\n",
        "from torchvision import models\n",
        "class Model(nn.Module):\n",
        "    def __init__(self, num_classes=2,latent_dim= 2048, lstm_layers=1 , hidden_dim = 2048, bidirectional = False):\n",
        "        super(Model, self).__init__()\n",
        "        model = models.resnext50_32x4d(pretrained = True) #Residual Network CNN\n",
        "        self.model = nn.Sequential(*list(model.children())[:-2])\n",
        "        self.lstm = nn.LSTM(latent_dim,hidden_dim, lstm_layers,  bidirectional)\n",
        "        self.relu = nn.LeakyReLU()\n",
        "        self.dp = nn.Dropout(0.4)\n",
        "        self.linear1 = nn.Linear(2048,num_classes)\n",
        "        self.avgpool = nn.AdaptiveAvgPool2d(1)\n",
        "    def forward(self, x):\n",
        "        batch_size,seq_length, c, h, w = x.shape\n",
        "        x = x.view(batch_size * seq_length, c, h, w)\n",
        "        fmap = self.model(x)\n",
        "        x = self.avgpool(fmap)\n",
        "        x = x.view(batch_size,seq_length,2048)\n",
        "        x_lstm,_ = self.lstm(x,None)\n",
        "        return fmap,self.dp(self.linear1(torch.mean(x_lstm,dim = 1)))"
      ]
    },
    {
      "cell_type": "code",
      "execution_count": 3,
      "metadata": {
        "id": "KylVkKXmjOz3"
      },
      "outputs": [],
      "source": [
        "im_size = 112\n",
        "mean=[0.485, 0.456, 0.406]\n",
        "std=[0.229, 0.224, 0.225]\n",
        "sm = nn.Softmax()\n",
        "inv_normalize =  transforms.Normalize(mean=-1*np.divide(mean,std),std=np.divide([1,1,1],std))\n",
        "\n",
        "def im_convert(tensor):\n",
        "    \"\"\" Display a tensor as an image. \"\"\"\n",
        "    image = tensor.to(\"cpu\").clone().detach()\n",
        "    image = image.squeeze()\n",
        "    image = inv_normalize(image)\n",
        "    image = image.numpy()\n",
        "    image = image.transpose(1,2,0)\n",
        "    image = image.clip(0, 1)\n",
        "    cv2.imwrite('./2.png',image*255)\n",
        "    return image\n",
        "\n",
        "def predict(model,img,path = './'):\n",
        "  fmap,logits = model(img.to('cuda'))\n",
        "  params = list(model.parameters())\n",
        "  weight_softmax = model.linear1.weight.detach().cpu().numpy()\n",
        "  logits = sm(logits)\n",
        "  _,prediction = torch.max(logits,1)\n",
        "  confidence = logits[:,int(prediction.item())].item()*100\n",
        "  print('confidence of prediction:',logits[:,int(prediction.item())].item()*100)\n",
        "  idx = np.argmax(logits.detach().cpu().numpy())\n",
        "  bz, nc, h, w = fmap.shape\n",
        "  out = np.dot(fmap[-1].detach().cpu().numpy().reshape((nc, h*w)).T,weight_softmax[idx,:].T)\n",
        "  predict = out.reshape(h,w)\n",
        "  predict = predict - np.min(predict)\n",
        "  predict_img = predict / np.max(predict)\n",
        "  predict_img = np.uint8(255*predict_img)\n",
        "  out = cv2.resize(predict_img, (im_size,im_size))\n",
        "  heatmap = cv2.applyColorMap(out, cv2.COLORMAP_JET)\n",
        "  img = im_convert(img[:,-1,:,:,:])\n",
        "  result = heatmap * 0.5 + img*0.8*255\n",
        "  cv2.imwrite('/content/drive/MyDrive/DeepFake/FF++/HeatMaps/3.png',result)\n",
        "  result1 = heatmap * 0.5/255 + img*0.8\n",
        "  r,g,b = cv2.split(result1)\n",
        "  result1 = cv2.merge((r,g,b))\n",
        "  plt.imshow(result1)\n",
        "  plt.show()\n",
        "  return [int(prediction.item()),confidence]"
      ]
    },
    {
      "cell_type": "code",
      "execution_count": 4,
      "metadata": {
        "id": "iQmfYR2ljUDA"
      },
      "outputs": [],
      "source": [
        "class validation_dataset(Dataset):\n",
        "    def __init__(self,video_names,sequence_length = 60,transform = None):\n",
        "        self.video_names = video_names\n",
        "        self.transform = transform\n",
        "        self.count = sequence_length\n",
        "    def __len__(self):\n",
        "        return len(self.video_names)\n",
        "    def __getitem__(self,idx):\n",
        "        video_path = self.video_names[idx]\n",
        "        frames = []\n",
        "        a = int(100/self.count)\n",
        "        first_frame = np.random.randint(0,a)\n",
        "        for i,frame in enumerate(self.frame_extract(video_path)):\n",
        "            #if(i % a == first_frame):\n",
        "            faces = face_recognition.face_locations(frame)\n",
        "            try:\n",
        "              top,right,bottom,left = faces[0]\n",
        "              frame = frame[top:bottom,left:right,:]\n",
        "            except:\n",
        "              pass\n",
        "            frames.append(self.transform(frame))\n",
        "            if(len(frames) == self.count):\n",
        "              break\n",
        "        #print(\"no of frames\",len(frames))\n",
        "        frames = torch.stack(frames)\n",
        "        frames = frames[:self.count]\n",
        "        return frames.unsqueeze(0)\n",
        "    def frame_extract(self,path):\n",
        "      vidObj = cv2.VideoCapture(path)\n",
        "      success = 1\n",
        "      while success:\n",
        "          success, image = vidObj.read()\n",
        "          if success:\n",
        "              yield image\n",
        "def im_plot(tensor):\n",
        "    image = tensor.cpu().numpy().transpose(1,2,0)\n",
        "    b,g,r = cv2.split(image)\n",
        "    image = cv2.merge((r,g,b))\n",
        "    image = image*[0.22803, 0.22145, 0.216989] +  [0.43216, 0.394666, 0.37645]\n",
        "    image = image*255.0\n",
        "    plt.imshow(image.astype(int))\n",
        "    plt.show()"
      ]
    },
    {
      "cell_type": "code",
      "execution_count": 5,
      "metadata": {
        "id": "zP3zxrG9oYyO"
      },
      "outputs": [],
      "source": [
        "#Code for making prediction\n",
        "im_size = 224\n",
        "mean=[0.485, 0.456, 0.406]\n",
        "std=[0.229, 0.224, 0.225]\n",
        "\n",
        "train_transforms = transforms.Compose([transforms.ToPILImage(),\n",
        "                                        transforms.Resize((im_size,im_size)),\n",
        "                                        transforms.ToTensor(),\n",
        "                                        transforms.Normalize(mean,std)])\n",
        "\n",
        "def predict(model_path,path_to_videos):\n",
        "  path_to_videos= [path_to_videos]\n",
        "\n",
        "  video_dataset = validation_dataset(path_to_videos,sequence_length = 20,transform = train_transforms)\n",
        "  model = Model(2).cuda()\n",
        "  model_path = model_path\n",
        "  model.load_state_dict(torch.load(model_path))\n",
        "  model.eval()\n",
        "  for i in range(0,len(path_to_videos)):\n",
        "    print(path_to_videos[i])\n",
        "    prediction = predict(model,video_dataset[i],'./')\n",
        "    if prediction[0] == 1:\n",
        "      print(\"REAL VIDEO\")\n",
        "      return \"real\"\n",
        "    else:\n",
        "      print(\"DEEP-FAKE VIDEO\")\n",
        "      return \"fake\""
      ]
    },
    {
      "cell_type": "markdown",
      "metadata": {
        "id": "mLzOMrbaoVDF"
      },
      "source": [
        "#### Predictions testing"
      ]
    },
    {
      "cell_type": "code",
      "execution_count": null,
      "metadata": {
        "colab": {
          "base_uri": "https://localhost:8080/",
          "height": 503
        },
        "id": "9VLzEAH8jbNm",
        "outputId": "26b2f219-3842-4eb4-8d75-30ff40d86a82"
      },
      "outputs": [],
      "source": [
        "#Code for making prediction\n",
        "im_size = 224\n",
        "mean=[0.485, 0.456, 0.406]\n",
        "std=[0.229, 0.224, 0.225]\n",
        "\n",
        "train_transforms = transforms.Compose([transforms.ToPILImage(),\n",
        "                                        transforms.Resize((im_size,im_size)),\n",
        "                                        transforms.ToTensor(),\n",
        "                                        transforms.Normalize(mean,std)])\n",
        "\n",
        "path_to_videos= [\"/content/drive/MyDrive/DeepFake/testing-prediction/rashmika-deepfake.mp4\"]\n",
        "\n",
        "video_dataset = validation_dataset(path_to_videos,sequence_length = 20,transform = train_transforms)\n",
        "model = Model(2).cuda()\n",
        "path_to_model = '/Users/karthiksagar/DeepFake-Detection/saved_best_model/best-checkpoint-model.pt'\n",
        "model.load_state_dict(torch.load(path_to_model))\n",
        "model.eval()\n",
        "for i in range(0,len(path_to_videos)):\n",
        "  print(path_to_videos[i])\n",
        "  prediction = predict(model,video_dataset[i],'./')\n",
        "  if prediction[0] == 1:\n",
        "    print(\"REAL VIDEO\")\n",
        "  else:\n",
        "    print(\"DEEP-FAKE VIDEO\")"
      ]
    },
    {
      "cell_type": "code",
      "execution_count": null,
      "metadata": {
        "colab": {
          "base_uri": "https://localhost:8080/",
          "height": 503
        },
        "id": "b08sTJMmkvKE",
        "outputId": "1a68fdf8-ba25-4c57-9705-0c4b37a97188"
      },
      "outputs": [
        {
          "name": "stdout",
          "output_type": "stream",
          "text": [
            "/content/drive/MyDrive/DeepFake/FF++/facecropped/real/06__talking_against_wall.mp4\n"
          ]
        },
        {
          "name": "stderr",
          "output_type": "stream",
          "text": [
            "WARNING:matplotlib.image:Clipping input data to the valid range for imshow with RGB data ([0..1] for floats or [0..255] for integers).\n"
          ]
        },
        {
          "name": "stdout",
          "output_type": "stream",
          "text": [
            "confidence of prediction: 68.2169497013092\n"
          ]
        },
        {
          "data": {
            "image/png": "[encoded data removed]",
            "text/plain": [
              "<Figure size 640x480 with 1 Axes>"
            ]
          },
          "metadata": {},
          "output_type": "display_data"
        },
        {
          "name": "stdout",
          "output_type": "stream",
          "text": [
            "REAL VIDEO\n"
          ]
        }
      ],
      "source": [
        "#Code for making prediction\n",
        "im_size = 224\n",
        "mean=[0.485, 0.456, 0.406]\n",
        "std=[0.229, 0.224, 0.225]\n",
        "\n",
        "train_transforms = transforms.Compose([transforms.ToPILImage(),\n",
        "                                        transforms.Resize((im_size,im_size)),\n",
        "                                        transforms.ToTensor(),\n",
        "                                        transforms.Normalize(mean,std)])\n",
        "\n",
        "path_to_videos= [\"/content/drive/MyDrive/DeepFake/FF++/facecropped/real/06__talking_against_wall.mp4\"]\n",
        "\n",
        "video_dataset = validation_dataset(path_to_videos,sequence_length = 20,transform = train_transforms)\n",
        "model = Model(2).cuda()\n",
        "path_to_model = '/content/drive/MyDrive/DeepFake/best_model_accuracy.pt'\n",
        "model.load_state_dict(torch.load(path_to_model))\n",
        "model.eval()\n",
        "for i in range(0,len(path_to_videos)):\n",
        "  print(path_to_videos[i])\n",
        "  prediction = predict(model,video_dataset[i],'./')\n",
        "  if prediction[0] == 1:\n",
        "    print(\"REAL VIDEO\")\n",
        "  else:\n",
        "    print(\"DEEP-FAKE VIDEO\")"
      ]
    },
    {
      "cell_type": "markdown",
      "metadata": {
        "id": "5DmBPG3QUgdY"
      },
      "source": [
        "# STREAMLIT CODE"
      ]
    },
    {
      "cell_type": "markdown",
      "metadata": {
        "id": "AaVKuKMHduB4"
      },
      "source": [
        "\n",
        "###Ip-Address-Tunnel Password = 34.125.148.168"
      ]
    },
    {
      "cell_type": "markdown",
      "metadata": {
        "id": "kVTZ1BfjxvXx"
      },
      "source": [
        "### requirements to run streamlit app in colab"
      ]
    },
    {
      "cell_type": "code",
      "execution_count": 8,
      "metadata": {
        "colab": {
          "base_uri": "https://localhost:8080/"
        },
        "id": "EPSrkFwmVER6",
        "outputId": "e181a304-3549-488b-f7c8-46bdfb8a3982"
      },
      "outputs": [
        {
          "name": "stdout",
          "output_type": "stream",
          "text": [
            "\u001b[2K     \u001b[90m━━━━━━━━━━━━━━━━━━━━━━━━━━━━━━━━━━━━━━━━\u001b[0m \u001b[32m8.1/8.1 MB\u001b[0m \u001b[31m27.6 MB/s\u001b[0m eta \u001b[36m0:00:00\u001b[0m\n",
            "\u001b[2K     \u001b[90m━━━━━━━━━━━━━━━━━━━━━━━━━━━━━━━━━━━━━━━━\u001b[0m \u001b[32m207.3/207.3 kB\u001b[0m \u001b[31m26.1 MB/s\u001b[0m eta \u001b[36m0:00:00\u001b[0m\n",
            "\u001b[2K     \u001b[90m━━━━━━━━━━━━━━━━━━━━━━━━━━━━━━━━━━━━━━━━\u001b[0m \u001b[32m4.8/4.8 MB\u001b[0m \u001b[31m65.2 MB/s\u001b[0m eta \u001b[36m0:00:00\u001b[0m\n",
            "\u001b[2K     \u001b[90m━━━━━━━━━━━━━━━━━━━━━━━━━━━━━━━━━━━━━━━━\u001b[0m \u001b[32m83.0/83.0 kB\u001b[0m \u001b[31m11.9 MB/s\u001b[0m eta \u001b[36m0:00:00\u001b[0m\n",
            "\u001b[2K     \u001b[90m━━━━━━━━━━━━━━━━━━━━━━━━━━━━━━━━━━━━━━━━\u001b[0m \u001b[32m62.7/62.7 kB\u001b[0m \u001b[31m9.6 MB/s\u001b[0m eta \u001b[36m0:00:00\u001b[0m\n",
            "\u001b[?25h"
          ]
        }
      ],
      "source": [
        "! pip install streamlit -q\n"
      ]
    },
    {
      "cell_type": "code",
      "execution_count": 9,
      "metadata": {
        "colab": {
          "base_uri": "https://localhost:8080/"
        },
        "id": "QNqMp_D5VHaz",
        "outputId": "c94996c5-a5a7-4517-d5a6-8dbca75fc616"
      },
      "outputs": [
        {
          "name": "stdout",
          "output_type": "stream",
          "text": [
            "34.125.148.168\n"
          ]
        }
      ],
      "source": [
        "!wget -q -O - ipv4.icanhazip.com"
      ]
    },
    {
      "cell_type": "markdown",
      "metadata": {
        "id": "GhIOZhjuxi2J"
      },
      "source": [
        "### App Code which just displays real or fake as text and confidence as number"
      ]
    },
    {
      "cell_type": "code",
      "execution_count": 29,
      "metadata": {
        "colab": {
          "base_uri": "https://localhost:8080/"
        },
        "id": "QhPC_MF1VXzP",
        "outputId": "f76e3686-8f2b-4d01-da0c-991aac3d81df"
      },
      "outputs": [
        {
          "name": "stdout",
          "output_type": "stream",
          "text": [
            "Overwriting main.py\n"
          ]
        }
      ],
      "source": [
        "%%writefile main.py\n",
        "import streamlit as st\n",
        "import torch\n",
        "import torchvision\n",
        "from torchvision import transforms, models\n",
        "from torch.utils.data import DataLoader\n",
        "from torch.utils.data.dataset import Dataset\n",
        "import numpy as np\n",
        "import cv2\n",
        "import face_recognition\n",
        "from torch.autograd import Variable\n",
        "import time\n",
        "import sys\n",
        "from torch import nn\n",
        "import json\n",
        "import glob\n",
        "import copy\n",
        "from PIL import Image as pImage\n",
        "import shutil\n",
        "import os\n",
        "\n",
        "im_size = 112\n",
        "mean=[0.485, 0.456, 0.406]\n",
        "std=[0.229, 0.224, 0.225]\n",
        "sm = nn.Softmax()\n",
        "inv_normalize = transforms.Normalize(mean=-1*np.divide(mean,std),std=np.divide([1,1,1],std))\n",
        "\n",
        "train_transforms = transforms.Compose([\n",
        "    transforms.ToPILImage(),\n",
        "    transforms.Resize((im_size,im_size)),\n",
        "    transforms.ToTensor(),\n",
        "    transforms.Normalize(mean,std)])\n",
        "\n",
        "class Model(nn.Module):\n",
        "    def __init__(self, num_classes,latent_dim= 2048, lstm_layers=1 , hidden_dim = 2048, bidirectional = False):\n",
        "        super(Model, self).__init__()\n",
        "        model = models.resnext50_32x4d(pretrained=True)\n",
        "        self.model = nn.Sequential(*list(model.children())[:-2])\n",
        "        self.lstm = nn.LSTM(latent_dim,hidden_dim, lstm_layers,  bidirectional)\n",
        "        self.relu = nn.LeakyReLU()\n",
        "        self.dp = nn.Dropout(0.4)\n",
        "        self.linear1 = nn.Linear(2048,num_classes)\n",
        "        self.avgpool = nn.AdaptiveAvgPool2d(1)\n",
        "\n",
        "    def forward(self, x):\n",
        "        batch_size,seq_length, c, h, w = x.shape\n",
        "        x = x.view(batch_size * seq_length, c, h, w)\n",
        "        fmap = self.model(x)\n",
        "        x = self.avgpool(fmap)\n",
        "        x = x.view(batch_size,seq_length,2048)\n",
        "        x_lstm,_ = self.lstm(x,None)\n",
        "        return fmap,self.dp(self.linear1(x_lstm[:,-1,:]))\n",
        "\n",
        "class validation_dataset(Dataset):\n",
        "    def __init__(self,video_names,sequence_length=60,transform=None):\n",
        "        self.video_names = video_names\n",
        "        self.transform = transform\n",
        "        self.count = sequence_length\n",
        "\n",
        "    def __len__(self):\n",
        "        return len(self.video_names)\n",
        "\n",
        "    def __getitem__(self,idx):\n",
        "        video_path = self.video_names[idx]\n",
        "        frames = []\n",
        "        a = int(100/self.count)\n",
        "        first_frame = np.random.randint(0,a)\n",
        "        for i,frame in enumerate(self.frame_extract(video_path)):\n",
        "            faces = face_recognition.face_locations(frame)\n",
        "            try:\n",
        "                top,right,bottom,left = faces[0]\n",
        "                frame = frame[top:bottom,left:right,:]\n",
        "            except:\n",
        "                pass\n",
        "            frames.append(self.transform(frame))\n",
        "            if(len(frames) == self.count):\n",
        "                break\n",
        "        frames = torch.stack(frames)\n",
        "        frames = frames[:self.count]\n",
        "        return frames.unsqueeze(0)\n",
        "\n",
        "    def frame_extract(self,path):\n",
        "        vidObj = cv2.VideoCapture(path)\n",
        "        success = 1\n",
        "        while success:\n",
        "            success, image = vidObj.read()\n",
        "            if success:\n",
        "                yield image\n",
        "\n",
        "def im_convert(tensor):\n",
        "    image = tensor.to(\"cpu\").clone().detach()\n",
        "    image = image.squeeze()\n",
        "    image = inv_normalize(image)\n",
        "    image = image.numpy()\n",
        "    image = image.transpose(1,2,0)\n",
        "    image = image.clip(0, 1)\n",
        "    return image\n",
        "\n",
        "def predict(model,img):\n",
        "    fmap,logits = model(img.to('cuda'))\n",
        "    logits = sm(logits)\n",
        "    _,prediction = torch.max(logits,1)\n",
        "    confidence = logits[:,int(prediction.item())].item()*100\n",
        "    return [int(prediction.item()), confidence]\n",
        "\n",
        "def save_uploaded_file(uploaded_file, save_dir):\n",
        "    if not os.path.exists(save_dir):\n",
        "        os.makedirs(save_dir)\n",
        "    file_path = os.path.join(save_dir, uploaded_file.name)\n",
        "    with open(file_path, \"wb\") as f:\n",
        "        f.write(uploaded_file.getbuffer())\n",
        "    return file_path\n",
        "\n",
        "def index():\n",
        "    st.title(\"DeepFake Video Detection\")\n",
        "    uploaded_file = st.file_uploader(\"Upload a video\", type=[\"mp4\", \"gif\", \"webm\", \"avi\", \"3gp\", \"wmv\", \"flv\", \"mkv\"])\n",
        "\n",
        "    if uploaded_file is not None:\n",
        "\n",
        "        # Display the uploaded video\n",
        "        st.video(uploaded_file)\n",
        "\n",
        "        sequence_length = st.number_input(\"Enter sequence length\", min_value=1, value=60)\n",
        "        model = Model(2).cuda()\n",
        "        st.write(\"Model loaded successfully.\")\n",
        "        st.write(\"Starting prediction...\")\n",
        "\n",
        "        # Save the uploaded file to disk\n",
        "        video_path = save_uploaded_file(uploaded_file, \"uploaded_videos\")\n",
        "\n",
        "        video_dataset = validation_dataset([video_path], sequence_length=sequence_length, transform=train_transforms)\n",
        "\n",
        "        # Load the trained model\n",
        "        path_to_model = \"/content/drive/MyDrive/DeepFake/best_model_accuracy.pt\"\n",
        "        model.load_state_dict(torch.load(path_to_model))\n",
        "        model.eval()\n",
        "        prediction = predict(model, video_dataset[0])\n",
        "\n",
        "        # Display prediction with icons or emojis\n",
        "        prediction_text = \"REAL\" if prediction[0] == 1 else \"FAKE\"\n",
        "        prediction_icon = \"✅\" if prediction[0] == 1 else \"❌\"\n",
        "        st.write(f\"Prediction: {prediction_text} {prediction_icon}\")\n",
        "\n",
        "        st.write(\"Confidence:\", round(prediction[1], 2))\n",
        "\n",
        "if __name__ == \"__main__\":\n",
        "    index()\n",
        "\n"
      ]
    },
    {
      "cell_type": "code",
      "execution_count": 30,
      "metadata": {
        "colab": {
          "base_uri": "https://localhost:8080/"
        },
        "id": "rU3S2M7ocz1s",
        "outputId": "e5a067b5-75d4-4446-afd5-3412969f60c0"
      },
      "outputs": [
        {
          "name": "stdout",
          "output_type": "stream",
          "text": [
            "\n",
            "Collecting usage statistics. To deactivate, set browser.gatherUsageStats to false.\n",
            "\u001b[0m\n",
            "\u001b[0m\n",
            "\u001b[34m\u001b[1m  You can now view your Streamlit app in your browser.\u001b[0m\n",
            "\u001b[0m\n",
            "\u001b[34m  Network URL: \u001b[0m\u001b[1mhttp://172.28.0.12:8501\u001b[0m\n",
            "\u001b[34m  External URL: \u001b[0m\u001b[1mhttp://34.125.148.168:8501\u001b[0m\n",
            "\u001b[0m\n",
            "\u001b[K\u001b[?25hnpx: installed 22 in 1.793s\n",
            "your url is: https://early-bushes-trade.loca.lt\n",
            "/usr/local/lib/python3.10/dist-packages/torchvision/models/_utils.py:208: UserWarning: The parameter 'pretrained' is deprecated since 0.13 and may be removed in the future, please use 'weights' instead.\n",
            "  warnings.warn(\n",
            "/usr/local/lib/python3.10/dist-packages/torchvision/models/_utils.py:223: UserWarning: Arguments other than a weight enum or `None` for 'weights' are deprecated since 0.13 and may be removed in the future. The current behavior is equivalent to passing `weights=ResNeXt50_32X4D_Weights.IMAGENET1K_V1`. You can also use `weights=ResNeXt50_32X4D_Weights.DEFAULT` to get the most up-to-date weights.\n",
            "  warnings.warn(msg)\n",
            "/usr/local/lib/python3.10/dist-packages/torch/nn/modules/module.py:1511: UserWarning: Implicit dimension choice for softmax has been deprecated. Change the call to include dim=X as an argument.\n",
            "  return self._call_impl(*args, **kwargs)\n",
            "\u001b[34m  Stopping...\u001b[0m\n",
            "^C\n"
          ]
        }
      ],
      "source": [
        "!streamlit run main.py & npx localtunnel --port 8501"
      ]
    },
    {
      "cell_type": "markdown",
      "metadata": {
        "id": "cAEP7zOmwyoY"
      },
      "source": [
        "### App code which displays the resulting video with box and predictions"
      ]
    },
    {
      "cell_type": "code",
      "execution_count": 38,
      "metadata": {
        "colab": {
          "base_uri": "https://localhost:8080/"
        },
        "id": "8Rspwl7jc2td",
        "outputId": "c7c43078-dcd7-479f-b2df-a4dd1f678972"
      },
      "outputs": [
        {
          "name": "stdout",
          "output_type": "stream",
          "text": [
            "Overwriting app.py\n"
          ]
        }
      ],
      "source": [
        "%%writefile app.py\n",
        "import streamlit as st\n",
        "import torch\n",
        "import torchvision\n",
        "from torchvision import transforms, models\n",
        "from torch.utils.data import DataLoader\n",
        "from torch.utils.data.dataset import Dataset\n",
        "import numpy as np\n",
        "import cv2\n",
        "import face_recognition\n",
        "from torch.autograd import Variable\n",
        "import time\n",
        "import sys\n",
        "from torch import nn\n",
        "import json\n",
        "import glob\n",
        "import copy\n",
        "from PIL import Image as pImage\n",
        "import shutil\n",
        "import os\n",
        "\n",
        "im_size = 112\n",
        "mean=[0.485, 0.456, 0.406]\n",
        "std=[0.229, 0.224, 0.225]\n",
        "sm = nn.Softmax()\n",
        "inv_normalize = transforms.Normalize(mean=-1*np.divide(mean,std),std=np.divide([1,1,1],std))\n",
        "\n",
        "train_transforms = transforms.Compose([\n",
        "    transforms.ToPILImage(),\n",
        "    transforms.Resize((im_size,im_size)),\n",
        "    transforms.ToTensor(),\n",
        "    transforms.Normalize(mean,std)])\n",
        "\n",
        "class Model(nn.Module):\n",
        "    def __init__(self, num_classes,latent_dim= 2048, lstm_layers=1 , hidden_dim = 2048, bidirectional = False):\n",
        "        super(Model, self).__init__()\n",
        "        model = models.resnext50_32x4d(pretrained=True)\n",
        "        self.model = nn.Sequential(*list(model.children())[:-2])\n",
        "        self.lstm = nn.LSTM(latent_dim,hidden_dim, lstm_layers,  bidirectional)\n",
        "        self.relu = nn.LeakyReLU()\n",
        "        self.dp = nn.Dropout(0.4)\n",
        "        self.linear1 = nn.Linear(2048,num_classes)\n",
        "        self.avgpool = nn.AdaptiveAvgPool2d(1)\n",
        "\n",
        "    def forward(self, x):\n",
        "        batch_size,seq_length, c, h, w = x.shape\n",
        "        x = x.view(batch_size * seq_length, c, h, w)\n",
        "        fmap = self.model(x)\n",
        "        x = self.avgpool(fmap)\n",
        "        x = x.view(batch_size,seq_length,2048)\n",
        "        x_lstm,_ = self.lstm(x,None)\n",
        "        return fmap,self.dp(self.linear1(x_lstm[:,-1,:]))\n",
        "\n",
        "class validation_dataset(Dataset):\n",
        "    def __init__(self,video_names,sequence_length=60,transform=None):\n",
        "        self.video_names = video_names\n",
        "        self.transform = transform\n",
        "        self.count = sequence_length\n",
        "\n",
        "    def __len__(self):\n",
        "        return len(self.video_names)\n",
        "\n",
        "    def __getitem__(self,idx):\n",
        "        video_path = self.video_names[idx]\n",
        "        frames = []\n",
        "        a = int(100/self.count)\n",
        "        first_frame = np.random.randint(0,a)\n",
        "        for i,frame in enumerate(self.frame_extract(video_path)):\n",
        "            faces = face_recognition.face_locations(frame)\n",
        "            try:\n",
        "                top,right,bottom,left = faces[0]\n",
        "                frame = frame[top:bottom,left:right,:]\n",
        "            except:\n",
        "                pass\n",
        "            frames.append(self.transform(frame))\n",
        "            if(len(frames) == self.count):\n",
        "                break\n",
        "        frames = torch.stack(frames)\n",
        "        frames = frames[:self.count]\n",
        "        return frames.unsqueeze(0)\n",
        "\n",
        "    def frame_extract(self,path):\n",
        "        vidObj = cv2.VideoCapture(path)\n",
        "        success = 1\n",
        "        while success:\n",
        "            success, image = vidObj.read()\n",
        "            if success:\n",
        "                yield image\n",
        "\n",
        "def im_convert(tensor):\n",
        "    image = tensor.to(\"cpu\").clone().detach()\n",
        "    image = image.squeeze()\n",
        "    image = inv_normalize(image)\n",
        "    image = image.numpy()\n",
        "    image = image.transpose(1,2,0)\n",
        "    image = image.clip(0, 1)\n",
        "    return image\n",
        "\n",
        "def predict(model,img):\n",
        "    fmap,logits = model(img.to('cuda'))\n",
        "    logits = sm(logits)\n",
        "    _,prediction = torch.max(logits,1)\n",
        "    confidence = logits[:,int(prediction.item())].item()*100\n",
        "    return [int(prediction.item()), confidence]\n",
        "\n",
        "def save_uploaded_file(uploaded_file, save_dir):\n",
        "    if not os.path.exists(save_dir):\n",
        "        os.makedirs(save_dir)\n",
        "    file_path = os.path.join(save_dir, uploaded_file.name)\n",
        "    with open(file_path, \"wb\") as f:\n",
        "        f.write(uploaded_file.getbuffer())\n",
        "    return file_path\n",
        "\n",
        "def run_model():\n",
        "    st.title(\"DeepFake Video Detection\")\n",
        "    uploaded_file = st.file_uploader(\"Upload a video\", type=[\"mp4\", \"gif\", \"webm\", \"avi\", \"3gp\", \"wmv\", \"flv\", \"mkv\"])\n",
        "    if uploaded_file is not None:\n",
        "        # Display the uploaded video\n",
        "        st.video(uploaded_file)\n",
        "\n",
        "        # Wait for the user to input sequence length\n",
        "        sequence_length = st.number_input(\"Enter sequence length\", min_value=1, value=60)\n",
        "\n",
        "        # Check if the user has entered sequence length\n",
        "        if sequence_length:\n",
        "            model = Model(2).cuda()\n",
        "            st.write(\"Model loaded successfully.\")\n",
        "            st.write(\"Starting prediction...\")\n",
        "\n",
        "            # Save the uploaded file to disk\n",
        "            video_path = save_uploaded_file(uploaded_file, \"uploaded_videos\")\n",
        "\n",
        "            video_dataset = validation_dataset([video_path], sequence_length=sequence_length, transform=train_transforms)\n",
        "            path_to_model = \"/content/drive/MyDrive/DeepFake/best_model_accuracy.pt\"\n",
        "            model.load_state_dict(torch.load(path_to_model))\n",
        "            model.eval()\n",
        "            prediction = predict(model, video_dataset[0])\n",
        "\n",
        "            # Display prediction with icons or emojis\n",
        "            prediction_text = \"REAL\" if prediction[0] == 1 else \"FAKE\"\n",
        "            prediction_icon = \"✅\" if prediction[0] == 1 else \"❌\"\n",
        "            st.write(f\"Prediction: {prediction_text} {prediction_icon}\")\n",
        "\n",
        "            st.write(\"Confidence:\", round(prediction[1], 2))\n",
        "\n",
        "            # Load the video using OpenCV\n",
        "            cap = cv2.VideoCapture(video_path)\n",
        "\n",
        "            # Get video properties\n",
        "            width = int(cap.get(cv2.CAP_PROP_FRAME_WIDTH))\n",
        "            height = int(cap.get(cv2.CAP_PROP_FRAME_HEIGHT))\n",
        "            fps = int(cap.get(cv2.CAP_PROP_FPS))\n",
        "\n",
        "            # Define the codec and create VideoWriter object\n",
        "            out = cv2.VideoWriter('output.avi', cv2.VideoWriter_fourcc('M','J','P','G'), fps, (width, height))\n",
        "\n",
        "            # Process each frame of the video\n",
        "            while cap.isOpened():\n",
        "                ret, frame = cap.read()\n",
        "                if not ret:\n",
        "                    break\n",
        "\n",
        "                # Detect faces in the frame\n",
        "                face_locations = face_recognition.face_locations(frame)\n",
        "\n",
        "                # Overlay prediction text on each face\n",
        "                for top, right, bottom, left in face_locations:\n",
        "                    cv2.rectangle(frame, (left, top), (right, bottom), (0, 255, 0), 2)\n",
        "                    cv2.putText(frame, f\"{prediction_text} {prediction_icon}\", (left, top - 10), cv2.FONT_HERSHEY_SIMPLEX, 0.9, (0, 255, 0), 2)\n",
        "\n",
        "                # Write the frame to the output video\n",
        "                out.write(frame)\n",
        "\n",
        "            # Release the video capture and writer objects\n",
        "            cap.release()\n",
        "            out.release()\n",
        "\n",
        "            # Display the processed video\n",
        "            st.video('output.avi')\n",
        "\n",
        "if __name__ == \"__main__\":\n",
        "    run_model()\n"
      ]
    },
    {
      "cell_type": "code",
      "execution_count": 39,
      "metadata": {
        "colab": {
          "base_uri": "https://localhost:8080/"
        },
        "id": "78tOeHkOqZ44",
        "outputId": "82433b0f-61b8-4d53-a293-5c6e0b786593"
      },
      "outputs": [
        {
          "name": "stdout",
          "output_type": "stream",
          "text": [
            "\n",
            "Collecting usage statistics. To deactivate, set browser.gatherUsageStats to false.\n",
            "\u001b[0m\n",
            "\u001b[0m\n",
            "\u001b[34m\u001b[1m  You can now view your Streamlit app in your browser.\u001b[0m\n",
            "\u001b[0m\n",
            "\u001b[34m  Network URL: \u001b[0m\u001b[1mhttp://172.28.0.12:8501\u001b[0m\n",
            "\u001b[34m  External URL: \u001b[0m\u001b[1mhttp://34.125.148.168:8501\u001b[0m\n",
            "\u001b[0m\n",
            "\u001b[K\u001b[?25hnpx: installed 22 in 1.729s\n",
            "your url is: https://dark-turkeys-make.loca.lt\n",
            "/usr/local/lib/python3.10/dist-packages/torchvision/models/_utils.py:208: UserWarning: The parameter 'pretrained' is deprecated since 0.13 and may be removed in the future, please use 'weights' instead.\n",
            "  warnings.warn(\n",
            "/usr/local/lib/python3.10/dist-packages/torchvision/models/_utils.py:223: UserWarning: Arguments other than a weight enum or `None` for 'weights' are deprecated since 0.13 and may be removed in the future. The current behavior is equivalent to passing `weights=ResNeXt50_32X4D_Weights.IMAGENET1K_V1`. You can also use `weights=ResNeXt50_32X4D_Weights.DEFAULT` to get the most up-to-date weights.\n",
            "  warnings.warn(msg)\n",
            "/usr/local/lib/python3.10/dist-packages/torch/nn/modules/module.py:1511: UserWarning: Implicit dimension choice for softmax has been deprecated. Change the call to include dim=X as an argument.\n",
            "  return self._call_impl(*args, **kwargs)\n",
            "\u001b[34m  Stopping...\u001b[0m\n",
            "^C\n"
          ]
        }
      ],
      "source": [
        "!streamlit run app.py & npx localtunnel --port 8501"
      ]
    },
    {
      "cell_type": "markdown",
      "metadata": {
        "id": "enEMUPH8w5Gi"
      },
      "source": [
        "### App code which displayed frames as resulting images with predictions"
      ]
    },
    {
      "cell_type": "code",
      "execution_count": 41,
      "metadata": {
        "colab": {
          "base_uri": "https://localhost:8080/"
        },
        "id": "ZHoytR9Nqe5t",
        "outputId": "ebb24a99-6cc6-44a5-f197-411506a803d5"
      },
      "outputs": [
        {
          "name": "stdout",
          "output_type": "stream",
          "text": [
            "Overwriting app.py\n"
          ]
        }
      ],
      "source": [
        "%%writefile app.py\n",
        "import streamlit as st\n",
        "import torch\n",
        "import torchvision\n",
        "from torchvision import transforms, models\n",
        "from torch.utils.data import DataLoader\n",
        "from torch.utils.data.dataset import Dataset\n",
        "import numpy as np\n",
        "import cv2\n",
        "import face_recognition\n",
        "from torch.autograd import Variable\n",
        "import time\n",
        "import sys\n",
        "from torch import nn\n",
        "import json\n",
        "import glob\n",
        "import copy\n",
        "from PIL import Image as pImage\n",
        "import shutil\n",
        "import os\n",
        "\n",
        "im_size = 112\n",
        "mean=[0.485, 0.456, 0.406]\n",
        "std=[0.229, 0.224, 0.225]\n",
        "sm = nn.Softmax()\n",
        "inv_normalize = transforms.Normalize(mean=-1*np.divide(mean,std),std=np.divide([1,1,1],std))\n",
        "\n",
        "train_transforms = transforms.Compose([\n",
        "    transforms.ToPILImage(),\n",
        "    transforms.Resize((im_size,im_size)),\n",
        "    transforms.ToTensor(),\n",
        "    transforms.Normalize(mean,std)])\n",
        "\n",
        "class Model(nn.Module):\n",
        "    def __init__(self, num_classes,latent_dim= 2048, lstm_layers=1 , hidden_dim = 2048, bidirectional = False):\n",
        "        super(Model, self).__init__()\n",
        "        model = models.resnext50_32x4d(pretrained=True)\n",
        "        self.model = nn.Sequential(*list(model.children())[:-2])\n",
        "        self.lstm = nn.LSTM(latent_dim,hidden_dim, lstm_layers,  bidirectional)\n",
        "        self.relu = nn.LeakyReLU()\n",
        "        self.dp = nn.Dropout(0.4)\n",
        "        self.linear1 = nn.Linear(2048,num_classes)\n",
        "        self.avgpool = nn.AdaptiveAvgPool2d(1)\n",
        "\n",
        "    def forward(self, x):\n",
        "        batch_size,seq_length, c, h, w = x.shape\n",
        "        x = x.view(batch_size * seq_length, c, h, w)\n",
        "        fmap = self.model(x)\n",
        "        x = self.avgpool(fmap)\n",
        "        x = x.view(batch_size,seq_length,2048)\n",
        "        x_lstm,_ = self.lstm(x,None)\n",
        "        return fmap,self.dp(self.linear1(x_lstm[:,-1,:]))\n",
        "\n",
        "class validation_dataset(Dataset):\n",
        "    def __init__(self,video_names,sequence_length=60,transform=None):\n",
        "        self.video_names = video_names\n",
        "        self.transform = transform\n",
        "        self.count = sequence_length\n",
        "\n",
        "    def __len__(self):\n",
        "        return len(self.video_names)\n",
        "\n",
        "    def __getitem__(self,idx):\n",
        "        video_path = self.video_names[idx]\n",
        "        frames = []\n",
        "        a = int(100/self.count)\n",
        "        first_frame = np.random.randint(0,a)\n",
        "        for i,frame in enumerate(self.frame_extract(video_path)):\n",
        "            faces = face_recognition.face_locations(frame)\n",
        "            try:\n",
        "                top,right,bottom,left = faces[0]\n",
        "                frame = frame[top:bottom,left:right,:]\n",
        "            except:\n",
        "                pass\n",
        "            frames.append(self.transform(frame))\n",
        "            if(len(frames) == self.count):\n",
        "                break\n",
        "        frames = torch.stack(frames)\n",
        "        frames = frames[:self.count]\n",
        "        return frames.unsqueeze(0)\n",
        "\n",
        "    def frame_extract(self,path):\n",
        "        vidObj = cv2.VideoCapture(path)\n",
        "        success = 1\n",
        "        while success:\n",
        "            success, image = vidObj.read()\n",
        "            if success:\n",
        "                yield image\n",
        "\n",
        "def im_convert(tensor):\n",
        "    image = tensor.to(\"cpu\").clone().detach()\n",
        "    image = image.squeeze()\n",
        "    image = inv_normalize(image)\n",
        "    image = image.numpy()\n",
        "    image = image.transpose(1,2,0)\n",
        "    image = image.clip(0, 1)\n",
        "    return image\n",
        "\n",
        "def predict(model,img):\n",
        "    fmap,logits = model(img.to('cuda'))\n",
        "    logits = sm(logits)\n",
        "    _,prediction = torch.max(logits,1)\n",
        "    confidence = logits[:,int(prediction.item())].item()*100\n",
        "    return [int(prediction.item()), confidence]\n",
        "\n",
        "def save_uploaded_file(uploaded_file, save_dir):\n",
        "    if not os.path.exists(save_dir):\n",
        "        os.makedirs(save_dir)\n",
        "    file_path = os.path.join(save_dir, uploaded_file.name)\n",
        "    with open(file_path, \"wb\") as f:\n",
        "        f.write(uploaded_file.getbuffer())\n",
        "    return file_path\n",
        "\n",
        "def index():\n",
        "    st.title(\"DeepFake Video Detection\")\n",
        "    uploaded_file = st.file_uploader(\"Upload a video\", type=[\"mp4\", \"gif\", \"webm\", \"avi\", \"3gp\", \"wmv\", \"flv\", \"mkv\"])\n",
        "\n",
        "    if uploaded_file is not None:\n",
        "\n",
        "        # Display the uploaded video\n",
        "        st.video(uploaded_file)\n",
        "\n",
        "        sequence_length = st.number_input(\"Enter sequence length\", min_value=1, value=60)\n",
        "        model = Model(2).cuda()\n",
        "        st.write(\"Model loaded successfully.\")\n",
        "        st.write(\"Starting prediction...\")\n",
        "\n",
        "        # Save the uploaded file to disk\n",
        "        video_path = save_uploaded_file(uploaded_file, \"uploaded_videos\")\n",
        "\n",
        "        video_dataset = validation_dataset([video_path], sequence_length=sequence_length, transform=train_transforms)\n",
        "\n",
        "        # Load the trained model\n",
        "        path_to_model = \"/content/drive/MyDrive/DeepFake/best_model_accuracy.pt\"\n",
        "        model.load_state_dict(torch.load(path_to_model))\n",
        "        model.eval()\n",
        "        prediction = predict(model, video_dataset[0])\n",
        "\n",
        "        # Display prediction with icons or emojis\n",
        "        prediction_text = \"REAL\" if prediction[0] == 1 else \"FAKE\"\n",
        "        prediction_icon = \"✅\" if prediction[0] == 1 else \"❌\"\n",
        "        st.write(f\"Prediction: {prediction_text} {prediction_icon}\")\n",
        "\n",
        "        st.write(\"Confidence:\", round(prediction[1], 2))\n",
        "\n",
        "        # Load the video using OpenCV\n",
        "        cap = cv2.VideoCapture(video_path)\n",
        "\n",
        "        # Process each frame of the video\n",
        "        while cap.isOpened():\n",
        "            ret, frame = cap.read()\n",
        "            if not ret:\n",
        "                break\n",
        "\n",
        "            # Detect faces in the frame\n",
        "            face_locations = face_recognition.face_locations(frame)\n",
        "\n",
        "            # Overlay prediction text on each face\n",
        "            for top, right, bottom, left in face_locations:\n",
        "                cv2.rectangle(frame, (left, top), (right, bottom), (0, 255, 0), 2)\n",
        "                prediction = predict(model, video_dataset[0])\n",
        "                prediction_text = \"REAL\" if prediction[0] == 1 else \"FAKE\"\n",
        "                prediction_confidence = round(prediction[1], 2)\n",
        "                cv2.putText(frame, f\"Prediction: {prediction_text} Confidence: {prediction_confidence}\", (left, top - 10), cv2.FONT_HERSHEY_SIMPLEX, 0.9, (0, 255, 0), 2)\n",
        "\n",
        "            # Convert the frame to RGB and display using Streamlit\n",
        "            frame_rgb = cv2.cvtColor(frame, cv2.COLOR_BGR2RGB)\n",
        "            st.image(frame_rgb, channels=\"RGB\")\n",
        "\n",
        "        # Release the video capture object\n",
        "        cap.release()\n",
        "\n",
        "if __name__ == \"__main__\":\n",
        "    index()"
      ]
    },
    {
      "cell_type": "markdown",
      "metadata": {
        "id": "Vm0vamrmxcmQ"
      },
      "source": [
        "Ip-Address-Tunnel Password = 34.125.148.168"
      ]
    },
    {
      "cell_type": "code",
      "execution_count": 42,
      "metadata": {
        "colab": {
          "base_uri": "https://localhost:8080/"
        },
        "id": "2IjQc4-pxZjg",
        "outputId": "aa1766ff-435b-458a-8fa8-3b82081f40b0"
      },
      "outputs": [
        {
          "name": "stdout",
          "output_type": "stream",
          "text": [
            "\n",
            "Collecting usage statistics. To deactivate, set browser.gatherUsageStats to false.\n",
            "\u001b[0m\n",
            "\u001b[0m\n",
            "\u001b[34m\u001b[1m  You can now view your Streamlit app in your browser.\u001b[0m\n",
            "\u001b[0m\n",
            "\u001b[34m  Network URL: \u001b[0m\u001b[1mhttp://172.28.0.12:8501\u001b[0m\n",
            "\u001b[34m  External URL: \u001b[0m\u001b[1mhttp://34.125.148.168:8501\u001b[0m\n",
            "\u001b[0m\n",
            "\u001b[K\u001b[?25hnpx: installed 22 in 1.805s\n",
            "your url is: https://sharp-pumas-find.loca.lt\n",
            "/usr/local/lib/python3.10/dist-packages/torchvision/models/_utils.py:208: UserWarning: The parameter 'pretrained' is deprecated since 0.13 and may be removed in the future, please use 'weights' instead.\n",
            "  warnings.warn(\n",
            "/usr/local/lib/python3.10/dist-packages/torchvision/models/_utils.py:223: UserWarning: Arguments other than a weight enum or `None` for 'weights' are deprecated since 0.13 and may be removed in the future. The current behavior is equivalent to passing `weights=ResNeXt50_32X4D_Weights.IMAGENET1K_V1`. You can also use `weights=ResNeXt50_32X4D_Weights.DEFAULT` to get the most up-to-date weights.\n",
            "  warnings.warn(msg)\n",
            "/usr/local/lib/python3.10/dist-packages/torch/nn/modules/module.py:1511: UserWarning: Implicit dimension choice for softmax has been deprecated. Change the call to include dim=X as an argument.\n",
            "  return self._call_impl(*args, **kwargs)\n",
            "\u001b[34m  Stopping...\u001b[0m\n",
            "^C\n"
          ]
        }
      ],
      "source": [
        "!streamlit run app.py & npx localtunnel --port 8501"
      ]
    },
    {
      "cell_type": "code",
      "execution_count": null,
      "metadata": {
        "id": "9b08V_ZWx1Oo"
      },
      "outputs": [],
      "source": []
    }
  ],
  "metadata": {
    "accelerator": "GPU",
    "colab": {
      "authorship_tag": "ABX9TyN65Lx3sUSxOoCSug2PmuPT",
      "collapsed_sections": [
        "PfTz6kQFU3qh"
      ],
      "gpuType": "L4",
      "include_colab_link": true,
      "machine_shape": "hm",
      "provenance": []
    },
    "kernelspec": {
      "display_name": "Python 3",
      "name": "python3"
    },
    "language_info": {
      "codemirror_mode": {
        "name": "ipython",
        "version": 3
      },
      "file_extension": ".py",
      "mimetype": "text/x-python",
      "name": "python",
      "nbconvert_exporter": "python",
      "pygments_lexer": "ipython3",
      "version": "3.11.5"
    }
  },
  "nbformat": 4,
  "nbformat_minor": 0
}
