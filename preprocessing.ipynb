{
  "cells": [
    {
      "cell_type": "markdown",
      "metadata": {
        "id": "view-in-github",
        "colab_type": "text"
      },
      "source": [
        "<a href=\"https://colab.research.google.com/github/karthiksagarN/DeepFake-Detection/blob/main/preprocessing.ipynb\" target=\"_parent\"><img src=\"https://colab.research.google.com/assets/colab-badge.svg\" alt=\"Open In Colab\"/></a>"
      ]
    },
    {
      "cell_type": "markdown",
      "source": [
        "###Drive Mounting and dependencies installation"
      ],
      "metadata": {
        "id": "m1cUFSVR8DnK"
      }
    },
    {
      "cell_type": "code",
      "source": [
        "from google.colab import drive\n",
        "drive.mount('/content/drive')"
      ],
      "metadata": {
        "id": "mysABE41meBO"
      },
      "execution_count": null,
      "outputs": []
    },
    {
      "cell_type": "code",
      "source": [
        "!pip install face_recognition"
      ],
      "metadata": {
        "colab": {
          "base_uri": "https://localhost:8080/"
        },
        "id": "fp7odKLfmyud",
        "outputId": "6e92ff93-a9fd-4cb0-dc9e-1ea61008cb97"
      },
      "execution_count": null,
      "outputs": [
        {
          "output_type": "stream",
          "name": "stdout",
          "text": [
            "Collecting face_recognition\n",
            "  Downloading face_recognition-1.3.0-py2.py3-none-any.whl (15 kB)\n",
            "Collecting face-recognition-models>=0.3.0 (from face_recognition)\n",
            "  Downloading face_recognition_models-0.3.0.tar.gz (100.1 MB)\n",
            "\u001b[2K     \u001b[90m━━━━━━━━━━━━━━━━━━━━━━━━━━━━━━━━━━━━━━━━\u001b[0m \u001b[32m100.1/100.1 MB\u001b[0m \u001b[31m17.9 MB/s\u001b[0m eta \u001b[36m0:00:00\u001b[0m\n",
            "\u001b[?25h  Preparing metadata (setup.py) ... \u001b[?25l\u001b[?25hdone\n",
            "Requirement already satisfied: Click>=6.0 in /usr/local/lib/python3.10/dist-packages (from face_recognition) (8.1.7)\n",
            "Requirement already satisfied: dlib>=19.7 in /usr/local/lib/python3.10/dist-packages (from face_recognition) (19.24.4)\n",
            "Requirement already satisfied: numpy in /usr/local/lib/python3.10/dist-packages (from face_recognition) (1.25.2)\n",
            "Requirement already satisfied: Pillow in /usr/local/lib/python3.10/dist-packages (from face_recognition) (9.4.0)\n",
            "Building wheels for collected packages: face-recognition-models\n",
            "  Building wheel for face-recognition-models (setup.py) ... \u001b[?25l\u001b[?25hdone\n",
            "  Created wheel for face-recognition-models: filename=face_recognition_models-0.3.0-py2.py3-none-any.whl size=100566170 sha256=d849ad9b75aa0aa9291df080573db0498826dd9ef9702aa91909fffeaf1fd07b\n",
            "  Stored in directory: /root/.cache/pip/wheels/7a/eb/cf/e9eced74122b679557f597bb7c8e4c739cfcac526db1fd523d\n",
            "Successfully built face-recognition-models\n",
            "Installing collected packages: face-recognition-models, face_recognition\n",
            "Successfully installed face-recognition-models-0.3.0 face_recognition-1.3.0\n"
          ]
        }
      ]
    },
    {
      "cell_type": "markdown",
      "metadata": {
        "id": "Jw3wPKWAmMme"
      },
      "source": [
        "### Importing necessary libararies"
      ]
    },
    {
      "cell_type": "code",
      "execution_count": null,
      "metadata": {
        "id": "AwaEGZQJmMmg"
      },
      "outputs": [],
      "source": [
        "import json\n",
        "import glob\n",
        "import numpy as np\n",
        "import cv2\n",
        "import copy\n",
        "import torch\n",
        "import torchvision\n",
        "from torchvision import transforms\n",
        "from torch.utils.data import DataLoader\n",
        "from torch.utils.data.dataset import Dataset\n",
        "import os\n",
        "import matplotlib.pyplot as plt\n",
        "import face_recognition\n",
        "from tqdm.autonotebook import tqdm"
      ]
    },
    {
      "cell_type": "markdown",
      "metadata": {
        "id": "LoEN7KQamMmh"
      },
      "source": [
        "### Finding Frames"
      ]
    },
    {
      "cell_type": "code",
      "execution_count": null,
      "metadata": {
        "colab": {
          "base_uri": "https://localhost:8080/"
        },
        "id": "AvpBMaJMmMmh",
        "outputId": "01f78aed-7f25-4270-cbc8-dbca12f807b9"
      },
      "outputs": [
        {
          "output_type": "stream",
          "name": "stdout",
          "text": [
            "Frames :  [744, 955, 759, 322, 1000, 845, 840, 577, 1025, 590, 718, 845, 632, 1620, 1034, 835, 677, 915, 800, 568, 758, 642, 1415, 437, 405, 1111, 940, 356, 875, 461, 915, 932, 820, 447, 1185, 875, 755, 1193, 456, 383, 578, 718, 698, 796, 840, 724, 795, 1373, 518, 553, 487, 751, 703, 1100, 341, 900, 1015, 875, 847, 419, 830, 995, 1255, 786, 694, 297, 810, 1094, 999, 678, 890, 819, 803, 1080, 860, 975, 790, 1325, 885, 1380, 1023, 723, 1015, 820, 880, 960, 529, 1045, 733, 743, 960, 729, 865, 1335, 558, 925, 1620, 384, 711, 878, 748, 657, 855, 1050, 1110, 869, 1350, 629, 932, 815, 159, 952, 1430, 518, 771, 970, 955, 1391, 706, 892, 870, 1457, 880, 549, 1020, 609, 880, 1350, 539, 689, 1620, 1330, 926, 775, 890, 429, 845, 1326, 655, 1384, 865, 800, 1001, 1012, 880, 1465, 924, 572, 672, 722, 1002, 664, 713, 839, 446, 208, 458, 446, 1453, 1082, 990, 685, 974, 1269, 815, 650, 960, 574, 446, 955, 910, 940, 301, 940, 816, 395, 534, 563, 481, 533, 655, 861, 684, 533, 543, 875, 456, 835, 932, 471, 652, 840, 704, 1177, 720, 795, 315, 621, 840, 839, 710, 625, 845, 477, 276, 1544, 943, 315, 565, 1180, 580, 1358, 532, 976, 422, 367, 613, 687, 543, 532, 541, 533, 405, 434, 958, 713, 723, 382, 986, 579, 839, 560, 764, 453, 405, 1255, 840, 1239, 593, 855, 759, 977, 810, 531, 403, 661, 1246, 420, 915, 1567, 960, 669, 703, 744, 262, 862, 960, 810, 910, 729, 711, 689, 857, 1255, 301, 686, 910, 328, 260, 1079, 796, 834, 943, 586, 432, 1447, 420, 810, 425, 874, 647, 1071, 307, 670, 408, 663, 387, 1324, 707, 336, 656, 975, 1023, 975, 867, 335, 733, 652, 975, 591]\n",
            "Total Number of Videos :  300\n",
            "Average frames per video :  791.4966666666667\n"
          ]
        }
      ],
      "source": [
        "# finding the number of frames for each video in dataset.\n",
        "video_files = glob.glob('/content/drive/MyDrive/DeepFake/FF++/real/*.mp4')\n",
        "video_files1 = glob.glob('/content/drive/MyDrive/DeepFake/FF++/fake/*.mp4')\n",
        "video_files += video_files1\n",
        "\n",
        "frame_count = []\n",
        "for video_file in video_files:\n",
        "    cap = cv2.VideoCapture(video_file)\n",
        "    if (int(cap.get(cv2.CAP_PROP_FRAME_COUNT)) < 150):\n",
        "        video_files.remove(video_file)\n",
        "        continue\n",
        "    frame_count.append(int(cap.get(cv2.CAP_PROP_FRAME_COUNT)))\n",
        "\n",
        "print(\"Frames : \", frame_count)\n",
        "print(\"Total Number of Videos : \", len(frame_count))\n",
        "print(\"Average frames per video : \", np.mean(frame_count))"
      ]
    },
    {
      "cell_type": "markdown",
      "metadata": {
        "id": "N9Ljz8QDmMmi"
      },
      "source": [
        "### EXTRACTING FACE CROPPED IMAGES FROM VIDEOS"
      ]
    },
    {
      "cell_type": "code",
      "execution_count": null,
      "metadata": {
        "id": "9Kcv8Si8mMmi"
      },
      "outputs": [],
      "source": [
        "import cv2\n",
        "import os\n",
        "import face_recognition\n",
        "\n",
        "# Define the paths to the folders containing the videos\n",
        "videos_folder_1 = \"/content/drive/MyDrive/DeepFake/FF++/fake\"\n",
        "videos_folder_2 = \"/content/drive/MyDrive/DeepFake/FF++/real\"\n",
        "\n",
        "# Define the path to the output folder for face-only videos\n",
        "output_folder1 = \"/content/drive/MyDrive/DeepFake/FF++/facecropped/fake\"\n",
        "output_folder2 = \"/content/drive/MyDrive/DeepFake/FF++/facecropped/real\"\n",
        "\n",
        "# Function to extract faces from a video and save them as images\n",
        "def extract_faces_from_video(video_path, output_folder):\n",
        "    # Create output folder if it doesn't exist\n",
        "    if not os.path.exists(output_folder):\n",
        "        os.makedirs(output_folder)\n",
        "\n",
        "    # Open the video file\n",
        "    video_capture = cv2.VideoCapture(video_path)\n",
        "    frame_count = 0\n",
        "    frames_processed = 0\n",
        "\n",
        "    # Read until video is completed\n",
        "    while frame_count < 5:\n",
        "        # Read a single frame\n",
        "        ret, frame = video_capture.read()\n",
        "        if not ret:\n",
        "            break  # Break the loop if no more frames are available\n",
        "\n",
        "        # Convert frame to RGB (face_recognition library requires RGB format)\n",
        "        rgb_frame = cv2.cvtColor(frame, cv2.COLOR_BGR2RGB)\n",
        "\n",
        "        # Find faces in the frame\n",
        "        face_locations = face_recognition.face_locations(rgb_frame)\n",
        "\n",
        "        # If faces are found, extract and save them\n",
        "        for top, right, bottom, left in face_locations:\n",
        "            # Extract the face region\n",
        "            face_image = frame[top:bottom, left:right]\n",
        "\n",
        "            # Write the face image to the output folder\n",
        "            output_path = os.path.join(output_folder, f\"{os.path.basename(video_path)}_frame_{frame_count}.jpg\")\n",
        "            cv2.imwrite(output_path, face_image)\n",
        "\n",
        "            # Increment frame count\n",
        "            frame_count += 1\n",
        "            frames_processed += 1\n",
        "\n",
        "        if frames_processed == 5:\n",
        "            break\n",
        "\n",
        "    # Release the video capture object\n",
        "    video_capture.release()\n",
        "\n",
        "# Process videos in the first folder\n",
        "for video_file in os.listdir(videos_folder_1):\n",
        "    if video_file.endswith(\".mp4\"):\n",
        "        video_path = os.path.join(videos_folder_1, video_file)\n",
        "        extract_faces_from_video(video_path, output_folder1)\n",
        "\n",
        "# Process videos in the second folder\n",
        "for video_file in os.listdir(videos_folder_2):\n",
        "    if video_file.endswith(\".mp4\"):\n",
        "        video_path = os.path.join(videos_folder_2, video_file)\n",
        "        extract_faces_from_video(video_path, output_folder2)"
      ]
    },
    {
      "cell_type": "markdown",
      "metadata": {
        "id": "NdDSGxmumMmi"
      },
      "source": [
        "### EXTRACTING FACE CROPPED VIDEOS"
      ]
    },
    {
      "cell_type": "code",
      "execution_count": null,
      "metadata": {
        "colab": {
          "base_uri": "https://localhost:8080/"
        },
        "id": "ZOwmw68vmMmi",
        "outputId": "1cb1ec6b-fff8-4506-dce1-7ab29c28744c"
      },
      "outputs": [
        {
          "output_type": "stream",
          "name": "stdout",
          "text": [
            "Number of videos already present:  0\n"
          ]
        },
        {
          "output_type": "stream",
          "name": "stderr",
          "text": [
            "100%|██████████| 150/150 [7:12:33<00:00, 173.02s/it]\n"
          ]
        }
      ],
      "source": [
        "import cv2\n",
        "import os\n",
        "import glob\n",
        "import face_recognition\n",
        "from tqdm import tqdm\n",
        "\n",
        "# Function to extract frames from a video\n",
        "def extract_frames(video_path):\n",
        "    frames = []\n",
        "    vidObj = cv2.VideoCapture(video_path)\n",
        "    success = True\n",
        "    while success:\n",
        "        success, image = vidObj.read()\n",
        "        if success:\n",
        "            frames.append(image)\n",
        "    return frames\n",
        "\n",
        "# Function to detect faces in frames and save cropped face video clips\n",
        "def create_face_videos(video_paths, output_dir):\n",
        "    already_present_count = len(glob.glob(os.path.join(output_dir, '*.mp4')))\n",
        "    print(\"Number of videos already present: \", already_present_count)\n",
        "\n",
        "    for video_path in tqdm(video_paths):\n",
        "        out_path = os.path.join(output_dir, os.path.basename(video_path))\n",
        "        if os.path.exists(out_path):\n",
        "            print(\"File already exists: \", out_path)\n",
        "            continue\n",
        "\n",
        "        frames = extract_frames(video_path)\n",
        "        frame_count = len(frames)\n",
        "        out = cv2.VideoWriter(out_path, cv2.VideoWriter_fourcc('M','J','P','G'), 30, (112, 112))\n",
        "\n",
        "        for idx, frame in enumerate(frames):\n",
        "            if idx <= 150:  # Process only the first 150 frames\n",
        "                faces = face_recognition.face_locations(frame)\n",
        "                if faces:\n",
        "                    top, right, bottom, left = faces[0]\n",
        "                    face_frame = frame[top:bottom, left:right, :]\n",
        "                    resized_face = cv2.resize(face_frame, (112, 112))\n",
        "                    out.write(resized_face)\n",
        "\n",
        "        out.release()\n",
        "\n",
        "# Example usage\n",
        "video_paths = glob.glob(\"/content/drive/MyDrive/DeepFake/FF++/real/*.mp4\")\n",
        "output_directory = '/content/drive/MyDrive/DeepFake/FF++/facecropped/real'\n",
        "create_face_videos(video_paths, output_directory)\n"
      ]
    },
    {
      "cell_type": "code",
      "execution_count": null,
      "metadata": {
        "colab": {
          "base_uri": "https://localhost:8080/"
        },
        "id": "-PfBqXv6mMmj",
        "outputId": "04d4ec7a-974d-410b-d4c1-841ab637b798"
      },
      "outputs": [
        {
          "output_type": "stream",
          "name": "stdout",
          "text": [
            "Number of videos already present:  72\n"
          ]
        },
        {
          "output_type": "stream",
          "name": "stderr",
          "text": [
            "\r  0%|          | 0/150 [00:00<?, ?it/s]"
          ]
        },
        {
          "output_type": "stream",
          "name": "stdout",
          "text": [
            "File already exists:  /content/drive/MyDrive/DeepFake/FF++/facecropped/fake/06_27__walking_and_outside_surprised__O7L5Z9U8.mp4\n",
            "File already exists:  /content/drive/MyDrive/DeepFake/FF++/facecropped/fake/03_07__walking_outside_cafe_disgusted__IFSURI9X.mp4\n",
            "File already exists:  /content/drive/MyDrive/DeepFake/FF++/facecropped/fake/03_04__outside_talking_pan_laughing__T04P6ELC.mp4\n",
            "File already exists:  /content/drive/MyDrive/DeepFake/FF++/facecropped/fake/03_06__podium_speech_happy__83ABVHC3.mp4\n",
            "File already exists:  /content/drive/MyDrive/DeepFake/FF++/facecropped/fake/03_07__walk_down_hall_angry__IFSURI9X.mp4\n",
            "File already exists:  /content/drive/MyDrive/DeepFake/FF++/facecropped/fake/02_27__walk_down_hall_angry__78M8S6M6.mp4\n",
            "File already exists:  /content/drive/MyDrive/DeepFake/FF++/facecropped/fake/02_18__walking_down_street_outside_angry__21JTDDEL.mp4\n",
            "File already exists:  /content/drive/MyDrive/DeepFake/FF++/facecropped/fake/03_07__walk_down_hall_angry__6PHZRQ4H.mp4\n",
            "File already exists:  /content/drive/MyDrive/DeepFake/FF++/facecropped/fake/03_04__talking_angry_couch__T04P6ELC.mp4\n",
            "File already exists:  /content/drive/MyDrive/DeepFake/FF++/facecropped/fake/03_01__walking_and_outside_surprised__JZUXXFRB.mp4\n",
            "File already exists:  /content/drive/MyDrive/DeepFake/FF++/facecropped/fake/02_25__talking_against_wall__Z7FQ69VP.mp4\n",
            "File already exists:  /content/drive/MyDrive/DeepFake/FF++/facecropped/fake/02_27__hugging_happy__GVFLSZD5.mp4\n",
            "File already exists:  /content/drive/MyDrive/DeepFake/FF++/facecropped/fake/03_07__walking_down_indoor_hall_disgust__PWXXULHR.mp4\n",
            "File already exists:  /content/drive/MyDrive/DeepFake/FF++/facecropped/fake/02_21__talking_angry_couch__Z0XHPQAR.mp4\n",
            "File already exists:  /content/drive/MyDrive/DeepFake/FF++/facecropped/fake/03_07__hugging_happy__BKLOCI1M.mp4\n",
            "File already exists:  /content/drive/MyDrive/DeepFake/FF++/facecropped/fake/03_07__walking_outside_cafe_disgusted__CDSNLDQ8.mp4\n",
            "File already exists:  /content/drive/MyDrive/DeepFake/FF++/facecropped/fake/03_06__meeting_serious__83ABVHC3.mp4\n",
            "File already exists:  /content/drive/MyDrive/DeepFake/FF++/facecropped/fake/02_21__kitchen_pan__Z0XHPQAR.mp4\n",
            "File already exists:  /content/drive/MyDrive/DeepFake/FF++/facecropped/fake/03_27__walk_down_hall_angry__IL675GCI.mp4\n",
            "File already exists:  /content/drive/MyDrive/DeepFake/FF++/facecropped/fake/03_26__kitchen_still__WBSXBL82.mp4\n",
            "File already exists:  /content/drive/MyDrive/DeepFake/FF++/facecropped/fake/03_14__talking_against_wall__ZC2KYASW.mp4\n",
            "File already exists:  /content/drive/MyDrive/DeepFake/FF++/facecropped/fake/03_09__outside_talking_still_laughing__RCETIXYL.mp4\n",
            "File already exists:  /content/drive/MyDrive/DeepFake/FF++/facecropped/fake/06_18__walk_down_hall_angry__LH0KWJKM.mp4\n",
            "File already exists:  /content/drive/MyDrive/DeepFake/FF++/facecropped/fake/03_13__outside_talking_still_laughing__GBYWJW06.mp4\n",
            "File already exists:  /content/drive/MyDrive/DeepFake/FF++/facecropped/fake/05_17__hugging_happy__YTJYYDO9.mp4\n",
            "File already exists:  /content/drive/MyDrive/DeepFake/FF++/facecropped/fake/07_14__exit_phone_room__P9QFO50U.mp4\n",
            "File already exists:  /content/drive/MyDrive/DeepFake/FF++/facecropped/fake/03_15__kitchen_pan__AIOM1U5V.mp4\n",
            "File already exists:  /content/drive/MyDrive/DeepFake/FF++/facecropped/fake/07_06__walking_down_street_outside_angry__NMGYPBXE.mp4\n",
            "File already exists:  /content/drive/MyDrive/DeepFake/FF++/facecropped/fake/04_07__kitchen_pan__XRK7FGZX.mp4\n",
            "File already exists:  /content/drive/MyDrive/DeepFake/FF++/facecropped/fake/03_21__kitchen_pan__YCSEBZO4.mp4\n",
            "File already exists:  /content/drive/MyDrive/DeepFake/FF++/facecropped/fake/05_17__walking_down_street_outside_angry__M3H96PDQ.mp4\n",
            "File already exists:  /content/drive/MyDrive/DeepFake/FF++/facecropped/fake/04_13__secret_conversation__00T3UYOR.mp4\n",
            "File already exists:  /content/drive/MyDrive/DeepFake/FF++/facecropped/fake/07_03__secret_conversation__IFSURI9X.mp4\n",
            "File already exists:  /content/drive/MyDrive/DeepFake/FF++/facecropped/fake/03_13__kitchen_pan__GBYWJW06.mp4\n",
            "File already exists:  /content/drive/MyDrive/DeepFake/FF++/facecropped/fake/07_26__walk_down_hall_angry__FGNGC2GT.mp4\n",
            "File already exists:  /content/drive/MyDrive/DeepFake/FF++/facecropped/fake/05_28__kitchen_still__W3J028UG.mp4\n",
            "File already exists:  /content/drive/MyDrive/DeepFake/FF++/facecropped/fake/03_14__walk_down_hall_angry__P1L5PF4I.mp4\n",
            "File already exists:  /content/drive/MyDrive/DeepFake/FF++/facecropped/fake/05_08__talking_against_wall__PRBCE28Z.mp4\n",
            "File already exists:  /content/drive/MyDrive/DeepFake/FF++/facecropped/fake/04_13__podium_speech_happy__00T3UYOR.mp4\n",
            "File already exists:  /content/drive/MyDrive/DeepFake/FF++/facecropped/fake/04_21__walking_down_street_outside_angry__5Y31RZP8.mp4\n",
            "File already exists:  /content/drive/MyDrive/DeepFake/FF++/facecropped/fake/07_21__talking_against_wall__MKU99DVX.mp4\n",
            "File already exists:  /content/drive/MyDrive/DeepFake/FF++/facecropped/fake/04_18__kitchen_still__NAXINA1N.mp4\n",
            "File already exists:  /content/drive/MyDrive/DeepFake/FF++/facecropped/fake/07_20__outside_talking_pan_laughing__KV6Q7D6C.mp4\n",
            "File already exists:  /content/drive/MyDrive/DeepFake/FF++/facecropped/fake/06_25__talking_angry_couch__MI9BDQ7M.mp4\n",
            "File already exists:  /content/drive/MyDrive/DeepFake/FF++/facecropped/fake/06_15__outside_talking_still_laughing__QRCD27P8.mp4\n",
            "File already exists:  /content/drive/MyDrive/DeepFake/FF++/facecropped/fake/03_09__secret_conversation__RCETIXYL.mp4\n",
            "File already exists:  /content/drive/MyDrive/DeepFake/FF++/facecropped/fake/06_04__walking_outside_cafe_disgusted__ZK95PQDE.mp4\n",
            "File already exists:  /content/drive/MyDrive/DeepFake/FF++/facecropped/fake/06_14__outside_talking_pan_laughing__8U9ULZDT.mp4\n",
            "File already exists:  /content/drive/MyDrive/DeepFake/FF++/facecropped/fake/04_06__kitchen_still__ZK95PQDE.mp4\n",
            "File already exists:  /content/drive/MyDrive/DeepFake/FF++/facecropped/fake/03_14__podium_speech_happy__Q9NSXM88.mp4\n",
            "File already exists:  /content/drive/MyDrive/DeepFake/FF++/facecropped/fake/03_18__walking_outside_cafe_disgusted__22UBC0BS.mp4\n",
            "File already exists:  /content/drive/MyDrive/DeepFake/FF++/facecropped/fake/06_18__outside_talking_pan_laughing__DEA1TCLN.mp4\n",
            "File already exists:  /content/drive/MyDrive/DeepFake/FF++/facecropped/fake/06_03__talking_against_wall__4I8LRXWF.mp4\n",
            "File already exists:  /content/drive/MyDrive/DeepFake/FF++/facecropped/fake/07_03__walking_outside_cafe_disgusted__F0YYEA5W.mp4\n",
            "File already exists:  /content/drive/MyDrive/DeepFake/FF++/facecropped/fake/08_05__walk_down_hall_angry__FBICSP2C.mp4\n",
            "File already exists:  /content/drive/MyDrive/DeepFake/FF++/facecropped/fake/07_03__talking_angry_couch__WPT3Z2KN.mp4\n",
            "File already exists:  /content/drive/MyDrive/DeepFake/FF++/facecropped/fake/03_14__walking_down_street_outside_angry__H0VQHGS3.mp4\n",
            "File already exists:  /content/drive/MyDrive/DeepFake/FF++/facecropped/fake/06_11__walking_outside_cafe_disgusted__MX659QU8.mp4\n",
            "File already exists:  /content/drive/MyDrive/DeepFake/FF++/facecropped/fake/06_07__walking_down_street_outside_angry__NMGYPBXE.mp4\n",
            "File already exists:  /content/drive/MyDrive/DeepFake/FF++/facecropped/fake/06_27__talking_angry_couch__JOG5PB18.mp4\n",
            "File already exists:  /content/drive/MyDrive/DeepFake/FF++/facecropped/fake/07_02__walking_down_street_outside_angry__O4SXNLRL.mp4\n",
            "File already exists:  /content/drive/MyDrive/DeepFake/FF++/facecropped/fake/06_14__walking_down_indoor_hall_disgust__8U9ULZDT.mp4\n",
            "File already exists:  /content/drive/MyDrive/DeepFake/FF++/facecropped/fake/07_06__kitchen_pan__NMGYPBXE.mp4\n",
            "File already exists:  /content/drive/MyDrive/DeepFake/FF++/facecropped/fake/06_25__walking_and_outside_surprised__MI9BDQ7M.mp4\n",
            "File already exists:  /content/drive/MyDrive/DeepFake/FF++/facecropped/fake/07_13__walking_outside_cafe_disgusted__RVQCPCJF.mp4\n",
            "File already exists:  /content/drive/MyDrive/DeepFake/FF++/facecropped/fake/04_13__walking_outside_cafe_disgusted__00T3UYOR.mp4\n",
            "File already exists:  /content/drive/MyDrive/DeepFake/FF++/facecropped/fake/07_12__outside_talking_still_laughing__0VN0A2T3.mp4\n",
            "File already exists:  /content/drive/MyDrive/DeepFake/FF++/facecropped/fake/06_26__kitchen_pan__L5BVR5L9.mp4\n",
            "File already exists:  /content/drive/MyDrive/DeepFake/FF++/facecropped/fake/03_21__exit_phone_room__YCSEBZO4.mp4\n",
            "File already exists:  /content/drive/MyDrive/DeepFake/FF++/facecropped/fake/03_11__exit_phone_room__P08VGHTA.mp4\n",
            "File already exists:  /content/drive/MyDrive/DeepFake/FF++/facecropped/fake/07_26__walking_down_street_outside_angry__FGNGC2GT.mp4\n",
            "File already exists:  /content/drive/MyDrive/DeepFake/FF++/facecropped/fake/03_15__kitchen_pan__DNUJD8M2.mp4\n"
          ]
        },
        {
          "output_type": "stream",
          "name": "stderr",
          "text": [
            "100%|██████████| 150/150 [3:48:37<00:00, 91.45s/it] \n"
          ]
        }
      ],
      "source": [
        "import cv2\n",
        "import os\n",
        "import glob\n",
        "import face_recognition\n",
        "from tqdm import tqdm\n",
        "\n",
        "# Function to extract frames from a video\n",
        "def extract_frames(video_path):\n",
        "    frames = []\n",
        "    vidObj = cv2.VideoCapture(video_path)\n",
        "    success = True\n",
        "    while success:\n",
        "        success, image = vidObj.read()\n",
        "        if success:\n",
        "            frames.append(image)\n",
        "    return frames\n",
        "\n",
        "# Function to detect faces in frames and save cropped face video clips\n",
        "def create_face_videos(video_paths, output_dir):\n",
        "    already_present_count = len(glob.glob(os.path.join(output_dir, '*.mp4')))\n",
        "    print(\"Number of videos already present: \", already_present_count)\n",
        "\n",
        "    for video_path in tqdm(video_paths):\n",
        "        out_path = os.path.join(output_dir, os.path.basename(video_path))\n",
        "        if os.path.exists(out_path):\n",
        "            print(\"File already exists: \", out_path)\n",
        "            continue\n",
        "\n",
        "        frames = extract_frames(video_path)\n",
        "        frame_count = len(frames)\n",
        "        out = cv2.VideoWriter(out_path, cv2.VideoWriter_fourcc('M','J','P','G'), 30, (112, 112))\n",
        "\n",
        "        for idx, frame in enumerate(frames):\n",
        "            if idx <= 150:  # Process only the first 150 frames\n",
        "                faces = face_recognition.face_locations(frame)\n",
        "                if faces:\n",
        "                    top, right, bottom, left = faces[0]\n",
        "                    face_frame = frame[top:bottom, left:right, :]\n",
        "                    resized_face = cv2.resize(face_frame, (112, 112))\n",
        "                    out.write(resized_face)\n",
        "\n",
        "        out.release()\n",
        "\n",
        "# Example usage\n",
        "video_paths = glob.glob(\"/content/drive/MyDrive/DeepFake/FF++/fake/*.mp4\")\n",
        "output_directory = '/content/drive/MyDrive/DeepFake/FF++/facecropped/fake'\n",
        "create_face_videos(video_paths, output_directory)\n"
      ]
    },
    {
      "cell_type": "code",
      "execution_count": null,
      "metadata": {
        "id": "X-BG9INGmMmj",
        "colab": {
          "base_uri": "https://localhost:8080/"
        },
        "outputId": "cec5b762-fb30-435c-a336-db35d89365d3"
      },
      "outputs": [
        {
          "metadata": {
            "tags": null
          },
          "name": "stdout",
          "output_type": "stream",
          "text": [
            "Number of videos already present:  148\n"
          ]
        },
        {
          "metadata": {
            "tags": null
          },
          "name": "stderr",
          "output_type": "stream",
          "text": [
            "\r  0%|          | 0/405 [00:00<?, ?it/s]"
          ]
        },
        {
          "metadata": {
            "tags": null
          },
          "name": "stdout",
          "output_type": "stream",
          "text": [
            "File already exists:  /content/drive/MyDrive/DeepFake/CELEB-DF/facecropped/real/Video796.mp4\n",
            "File already exists:  /content/drive/MyDrive/DeepFake/CELEB-DF/facecropped/real/Video797.mp4\n",
            "File already exists:  /content/drive/MyDrive/DeepFake/CELEB-DF/facecropped/real/Video798.mp4\n",
            "File already exists:  /content/drive/MyDrive/DeepFake/CELEB-DF/facecropped/real/Video799.mp4\n",
            "File already exists:  /content/drive/MyDrive/DeepFake/CELEB-DF/facecropped/real/Video800.mp4\n",
            "File already exists:  /content/drive/MyDrive/DeepFake/CELEB-DF/facecropped/real/Video801.mp4\n",
            "File already exists:  /content/drive/MyDrive/DeepFake/CELEB-DF/facecropped/real/Video802.mp4\n",
            "File already exists:  /content/drive/MyDrive/DeepFake/CELEB-DF/facecropped/real/Video803.mp4\n",
            "File already exists:  /content/drive/MyDrive/DeepFake/CELEB-DF/facecropped/real/Video804.mp4\n",
            "File already exists:  /content/drive/MyDrive/DeepFake/CELEB-DF/facecropped/real/Video805.mp4\n",
            "File already exists:  /content/drive/MyDrive/DeepFake/CELEB-DF/facecropped/real/Video886.mp4\n",
            "File already exists:  /content/drive/MyDrive/DeepFake/CELEB-DF/facecropped/real/Video887.mp4\n",
            "File already exists:  /content/drive/MyDrive/DeepFake/CELEB-DF/facecropped/real/Video888.mp4\n",
            "File already exists:  /content/drive/MyDrive/DeepFake/CELEB-DF/facecropped/real/Video889.mp4\n",
            "File already exists:  /content/drive/MyDrive/DeepFake/CELEB-DF/facecropped/real/Video890.mp4\n",
            "File already exists:  /content/drive/MyDrive/DeepFake/CELEB-DF/facecropped/real/Video891.mp4\n",
            "File already exists:  /content/drive/MyDrive/DeepFake/CELEB-DF/facecropped/real/Video892.mp4\n",
            "File already exists:  /content/drive/MyDrive/DeepFake/CELEB-DF/facecropped/real/Video814.mp4\n",
            "File already exists:  /content/drive/MyDrive/DeepFake/CELEB-DF/facecropped/real/Video815.mp4\n",
            "File already exists:  /content/drive/MyDrive/DeepFake/CELEB-DF/facecropped/real/Video816.mp4\n",
            "File already exists:  /content/drive/MyDrive/DeepFake/CELEB-DF/facecropped/real/Video817.mp4\n",
            "File already exists:  /content/drive/MyDrive/DeepFake/CELEB-DF/facecropped/real/Video818.mp4\n",
            "File already exists:  /content/drive/MyDrive/DeepFake/CELEB-DF/facecropped/real/Video819.mp4\n",
            "File already exists:  /content/drive/MyDrive/DeepFake/CELEB-DF/facecropped/real/Video820.mp4\n",
            "File already exists:  /content/drive/MyDrive/DeepFake/CELEB-DF/facecropped/real/Video821.mp4\n",
            "File already exists:  /content/drive/MyDrive/DeepFake/CELEB-DF/facecropped/real/Video822.mp4\n",
            "File already exists:  /content/drive/MyDrive/DeepFake/CELEB-DF/facecropped/real/Video823.mp4\n",
            "File already exists:  /content/drive/MyDrive/DeepFake/CELEB-DF/facecropped/real/Video824.mp4\n",
            "File already exists:  /content/drive/MyDrive/DeepFake/CELEB-DF/facecropped/real/Video825.mp4\n",
            "File already exists:  /content/drive/MyDrive/DeepFake/CELEB-DF/facecropped/real/Video826.mp4\n",
            "File already exists:  /content/drive/MyDrive/DeepFake/CELEB-DF/facecropped/real/Video827.mp4\n",
            "File already exists:  /content/drive/MyDrive/DeepFake/CELEB-DF/facecropped/real/Video828.mp4\n",
            "File already exists:  /content/drive/MyDrive/DeepFake/CELEB-DF/facecropped/real/Video829.mp4\n",
            "File already exists:  /content/drive/MyDrive/DeepFake/CELEB-DF/facecropped/real/Video830.mp4\n",
            "File already exists:  /content/drive/MyDrive/DeepFake/CELEB-DF/facecropped/real/Video832.mp4\n",
            "File already exists:  /content/drive/MyDrive/DeepFake/CELEB-DF/facecropped/real/Video833.mp4\n",
            "File already exists:  /content/drive/MyDrive/DeepFake/CELEB-DF/facecropped/real/Video834.mp4\n",
            "File already exists:  /content/drive/MyDrive/DeepFake/CELEB-DF/facecropped/real/Video835.mp4\n",
            "File already exists:  /content/drive/MyDrive/DeepFake/CELEB-DF/facecropped/real/Video836.mp4\n",
            "File already exists:  /content/drive/MyDrive/DeepFake/CELEB-DF/facecropped/real/Video837.mp4\n",
            "File already exists:  /content/drive/MyDrive/DeepFake/CELEB-DF/facecropped/real/Video838.mp4\n",
            "File already exists:  /content/drive/MyDrive/DeepFake/CELEB-DF/facecropped/real/Video839.mp4\n",
            "File already exists:  /content/drive/MyDrive/DeepFake/CELEB-DF/facecropped/real/Video840.mp4\n",
            "File already exists:  /content/drive/MyDrive/DeepFake/CELEB-DF/facecropped/real/Video841.mp4\n",
            "File already exists:  /content/drive/MyDrive/DeepFake/CELEB-DF/facecropped/real/Video842.mp4\n",
            "File already exists:  /content/drive/MyDrive/DeepFake/CELEB-DF/facecropped/real/Video843.mp4\n",
            "File already exists:  /content/drive/MyDrive/DeepFake/CELEB-DF/facecropped/real/Video844.mp4\n",
            "File already exists:  /content/drive/MyDrive/DeepFake/CELEB-DF/facecropped/real/Video845.mp4\n",
            "File already exists:  /content/drive/MyDrive/DeepFake/CELEB-DF/facecropped/real/Video846.mp4\n"
          ]
        },
        {
          "metadata": {
            "tags": null
          },
          "name": "stderr",
          "output_type": "stream",
          "text": [
            "\r 12%|█▏        | 50/405 [00:42<04:58,  1.19it/s]"
          ]
        },
        {
          "metadata": {
            "tags": null
          },
          "name": "stdout",
          "output_type": "stream",
          "text": [
            "File already exists:  /content/drive/MyDrive/DeepFake/CELEB-DF/facecropped/real/Video848.mp4\n",
            "File already exists:  /content/drive/MyDrive/DeepFake/CELEB-DF/facecropped/real/Video850.mp4\n",
            "File already exists:  /content/drive/MyDrive/DeepFake/CELEB-DF/facecropped/real/Video851.mp4\n",
            "File already exists:  /content/drive/MyDrive/DeepFake/CELEB-DF/facecropped/real/Video852.mp4\n",
            "File already exists:  /content/drive/MyDrive/DeepFake/CELEB-DF/facecropped/real/Video853.mp4\n"
          ]
        },
        {
          "metadata": {
            "tags": null
          },
          "name": "stderr",
          "output_type": "stream",
          "text": [
            " 15%|█▍        | 59/405 [03:28<40:42,  7.06s/it]"
          ]
        },
        {
          "metadata": {
            "tags": null
          },
          "name": "stdout",
          "output_type": "stream",
          "text": [
            "File already exists:  /content/drive/MyDrive/DeepFake/CELEB-DF/facecropped/real/Video858.mp4\n",
            "File already exists:  /content/drive/MyDrive/DeepFake/CELEB-DF/facecropped/real/Video859.mp4\n",
            "File already exists:  /content/drive/MyDrive/DeepFake/CELEB-DF/facecropped/real/Video860.mp4\n",
            "File already exists:  /content/drive/MyDrive/DeepFake/CELEB-DF/facecropped/real/Video861.mp4\n",
            "File already exists:  /content/drive/MyDrive/DeepFake/CELEB-DF/facecropped/real/Video862.mp4\n",
            "File already exists:  /content/drive/MyDrive/DeepFake/CELEB-DF/facecropped/real/Video863.mp4\n",
            "File already exists:  /content/drive/MyDrive/DeepFake/CELEB-DF/facecropped/real/Video864.mp4\n",
            "File already exists:  /content/drive/MyDrive/DeepFake/CELEB-DF/facecropped/real/Video865.mp4\n",
            "File already exists:  /content/drive/MyDrive/DeepFake/CELEB-DF/facecropped/real/Video866.mp4\n"
          ]
        },
        {
          "metadata": {
            "tags": null
          },
          "name": "stderr",
          "output_type": "stream",
          "text": [
            "\r 17%|█▋        | 69/405 [04:10<32:09,  5.74s/it]"
          ]
        },
        {
          "metadata": {
            "tags": null
          },
          "name": "stdout",
          "output_type": "stream",
          "text": [
            "File already exists:  /content/drive/MyDrive/DeepFake/CELEB-DF/facecropped/real/Video911.mp4\n",
            "File already exists:  /content/drive/MyDrive/DeepFake/CELEB-DF/facecropped/real/Video929.mp4\n"
          ]
        },
        {
          "metadata": {
            "tags": null
          },
          "name": "stderr",
          "output_type": "stream",
          "text": [
            " 18%|█▊        | 73/405 [04:57<40:55,  7.40s/it]"
          ]
        },
        {
          "metadata": {
            "tags": null
          },
          "name": "stdout",
          "output_type": "stream",
          "text": [
            "File already exists:  /content/drive/MyDrive/DeepFake/CELEB-DF/facecropped/real/Video849.mp4\n",
            "File already exists:  /content/drive/MyDrive/DeepFake/CELEB-DF/facecropped/real/Video867.mp4\n"
          ]
        },
        {
          "metadata": {
            "tags": null
          },
          "name": "stderr",
          "output_type": "stream",
          "text": [
            " 20%|█▉        | 79/405 [07:09<1:32:37, 17.05s/it]"
          ]
        },
        {
          "metadata": {
            "tags": null
          },
          "name": "stdout",
          "output_type": "stream",
          "text": [
            "File already exists:  /content/drive/MyDrive/DeepFake/CELEB-DF/facecropped/real/Video898.mp4\n",
            "File already exists:  /content/drive/MyDrive/DeepFake/CELEB-DF/facecropped/real/Video899.mp4\n",
            "File already exists:  /content/drive/MyDrive/DeepFake/CELEB-DF/facecropped/real/Video900.mp4\n",
            "File already exists:  /content/drive/MyDrive/DeepFake/CELEB-DF/facecropped/real/Video901.mp4\n",
            "File already exists:  /content/drive/MyDrive/DeepFake/CELEB-DF/facecropped/real/Video902.mp4\n",
            "File already exists:  /content/drive/MyDrive/DeepFake/CELEB-DF/facecropped/real/Video903.mp4\n",
            "File already exists:  /content/drive/MyDrive/DeepFake/CELEB-DF/facecropped/real/Video904.mp4\n",
            "File already exists:  /content/drive/MyDrive/DeepFake/CELEB-DF/facecropped/real/Video905.mp4\n",
            "File already exists:  /content/drive/MyDrive/DeepFake/CELEB-DF/facecropped/real/Video906.mp4\n",
            "File already exists:  /content/drive/MyDrive/DeepFake/CELEB-DF/facecropped/real/Video907.mp4\n"
          ]
        },
        {
          "metadata": {
            "tags": null
          },
          "name": "stderr",
          "output_type": "stream",
          "text": [
            " 22%|██▏       | 91/405 [08:33<55:12, 10.55s/it]"
          ]
        },
        {
          "metadata": {
            "tags": null
          },
          "name": "stdout",
          "output_type": "stream",
          "text": [
            "File already exists:  /content/drive/MyDrive/DeepFake/CELEB-DF/facecropped/real/Video910.mp4\n",
            "File already exists:  /content/drive/MyDrive/DeepFake/CELEB-DF/facecropped/real/Video912.mp4\n",
            "File already exists:  /content/drive/MyDrive/DeepFake/CELEB-DF/facecropped/real/Video913.mp4\n",
            "File already exists:  /content/drive/MyDrive/DeepFake/CELEB-DF/facecropped/real/Video914.mp4\n",
            "File already exists:  /content/drive/MyDrive/DeepFake/CELEB-DF/facecropped/real/Video915.mp4\n",
            "File already exists:  /content/drive/MyDrive/DeepFake/CELEB-DF/facecropped/real/Video916.mp4\n",
            "File already exists:  /content/drive/MyDrive/DeepFake/CELEB-DF/facecropped/real/Video917.mp4\n"
          ]
        },
        {
          "metadata": {
            "tags": null
          },
          "name": "stderr",
          "output_type": "stream",
          "text": [
            " 27%|██▋       | 108/405 [15:07<2:55:03, 35.36s/it]"
          ]
        },
        {
          "metadata": {
            "tags": null
          },
          "name": "stdout",
          "output_type": "stream",
          "text": [
            "File already exists:  /content/drive/MyDrive/DeepFake/CELEB-DF/facecropped/real/Video928.mp4\n"
          ]
        },
        {
          "metadata": {
            "tags": null
          },
          "name": "stderr",
          "output_type": "stream",
          "text": [
            " 29%|██▉       | 117/405 [20:42<3:13:29, 40.31s/it]"
          ]
        },
        {
          "metadata": {
            "tags": null
          },
          "name": "stdout",
          "output_type": "stream",
          "text": [
            "File already exists:  /content/drive/MyDrive/DeepFake/CELEB-DF/facecropped/real/Video938.mp4\n",
            "File already exists:  /content/drive/MyDrive/DeepFake/CELEB-DF/facecropped/real/Video939.mp4\n"
          ]
        },
        {
          "metadata": {
            "tags": null
          },
          "name": "stderr",
          "output_type": "stream",
          "text": [
            " 35%|███▌      | 142/405 [32:24<2:26:23, 33.40s/it]"
          ]
        },
        {
          "metadata": {
            "tags": null
          },
          "name": "stdout",
          "output_type": "stream",
          "text": [
            "File already exists:  /content/drive/MyDrive/DeepFake/CELEB-DF/facecropped/real/Video870.mp4\n",
            "File already exists:  /content/drive/MyDrive/DeepFake/CELEB-DF/facecropped/real/Video871.mp4\n",
            "File already exists:  /content/drive/MyDrive/DeepFake/CELEB-DF/facecropped/real/Video872.mp4\n",
            "File already exists:  /content/drive/MyDrive/DeepFake/CELEB-DF/facecropped/real/Video873.mp4\n",
            "File already exists:  /content/drive/MyDrive/DeepFake/CELEB-DF/facecropped/real/Video874.mp4\n",
            "File already exists:  /content/drive/MyDrive/DeepFake/CELEB-DF/facecropped/real/Video875.mp4\n",
            "File already exists:  /content/drive/MyDrive/DeepFake/CELEB-DF/facecropped/real/Video876.mp4\n",
            "File already exists:  /content/drive/MyDrive/DeepFake/CELEB-DF/facecropped/real/Video877.mp4\n"
          ]
        },
        {
          "metadata": {
            "tags": null
          },
          "name": "stderr",
          "output_type": "stream",
          "text": [
            " 51%|█████     | 207/405 [1:10:22<2:10:49, 39.65s/it]"
          ]
        },
        {
          "metadata": {
            "tags": null
          },
          "name": "stdout",
          "output_type": "stream",
          "text": [
            "File already exists:  /content/drive/MyDrive/DeepFake/CELEB-DF/facecropped/real/Video1083.mp4\n"
          ]
        },
        {
          "metadata": {
            "tags": null
          },
          "name": "stderr",
          "output_type": "stream",
          "text": [
            " 54%|█████▎    | 217/405 [1:16:19<2:02:18, 39.04s/it]"
          ]
        },
        {
          "metadata": {
            "tags": null
          },
          "name": "stdout",
          "output_type": "stream",
          "text": [
            "File already exists:  /content/drive/MyDrive/DeepFake/CELEB-DF/facecropped/real/Video1053.mp4\n",
            "File already exists:  /content/drive/MyDrive/DeepFake/CELEB-DF/facecropped/real/Video1119.mp4\n"
          ]
        },
        {
          "metadata": {
            "tags": null
          },
          "name": "stderr",
          "output_type": "stream",
          "text": [
            "\r 54%|█████▍    | 220/405 [1:16:59<1:16:09, 24.70s/it]"
          ]
        },
        {
          "metadata": {
            "tags": null
          },
          "name": "stdout",
          "output_type": "stream",
          "text": [
            "File already exists:  /content/drive/MyDrive/DeepFake/CELEB-DF/facecropped/real/Video1126.mp4\n"
          ]
        },
        {
          "metadata": {
            "tags": null
          },
          "name": "stderr",
          "output_type": "stream",
          "text": [
            " 55%|█████▌    | 224/405 [1:18:58<1:28:25, 29.31s/it]"
          ]
        },
        {
          "metadata": {
            "tags": null
          },
          "name": "stdout",
          "output_type": "stream",
          "text": [
            "File already exists:  /content/drive/MyDrive/DeepFake/CELEB-DF/facecropped/real/Video1080.mp4\n"
          ]
        },
        {
          "metadata": {
            "tags": null
          },
          "name": "stderr",
          "output_type": "stream",
          "text": [
            " 57%|█████▋    | 229/405 [1:21:36<1:37:34, 33.27s/it]"
          ]
        },
        {
          "metadata": {
            "tags": null
          },
          "name": "stdout",
          "output_type": "stream",
          "text": [
            "File already exists:  /content/drive/MyDrive/DeepFake/CELEB-DF/facecropped/real/Video1085.mp4\n",
            "File already exists:  /content/drive/MyDrive/DeepFake/CELEB-DF/facecropped/real/Video1044.mp4\n"
          ]
        },
        {
          "metadata": {
            "tags": null
          },
          "name": "stderr",
          "output_type": "stream",
          "text": [
            " 58%|█████▊    | 233/405 [1:22:56<1:15:03, 26.18s/it]"
          ]
        },
        {
          "metadata": {
            "tags": null
          },
          "name": "stdout",
          "output_type": "stream",
          "text": [
            "File already exists:  /content/drive/MyDrive/DeepFake/CELEB-DF/facecropped/real/Video1040.mp4\n"
          ]
        },
        {
          "metadata": {
            "tags": null
          },
          "name": "stderr",
          "output_type": "stream",
          "text": [
            " 59%|█████▉    | 238/405 [1:25:34<1:30:19, 32.45s/it]"
          ]
        },
        {
          "metadata": {
            "tags": null
          },
          "name": "stdout",
          "output_type": "stream",
          "text": [
            "File already exists:  /content/drive/MyDrive/DeepFake/CELEB-DF/facecropped/real/Video1124.mp4\n",
            "File already exists:  /content/drive/MyDrive/DeepFake/CELEB-DF/facecropped/real/Video1092.mp4\n",
            "File already exists:  /content/drive/MyDrive/DeepFake/CELEB-DF/facecropped/real/Video1122.mp4\n"
          ]
        },
        {
          "metadata": {
            "tags": null
          },
          "name": "stderr",
          "output_type": "stream",
          "text": [
            "\r 60%|█████▉    | 242/405 [1:26:14<52:30, 19.33s/it]  "
          ]
        },
        {
          "metadata": {
            "tags": null
          },
          "name": "stdout",
          "output_type": "stream",
          "text": [
            "File already exists:  /content/drive/MyDrive/DeepFake/CELEB-DF/facecropped/real/Video1051.mp4\n"
          ]
        },
        {
          "metadata": {
            "tags": null
          },
          "name": "stderr",
          "output_type": "stream",
          "text": [
            " 61%|██████    | 246/405 [1:28:14<1:10:13, 26.50s/it]"
          ]
        },
        {
          "metadata": {
            "tags": null
          },
          "name": "stdout",
          "output_type": "stream",
          "text": [
            "File already exists:  /content/drive/MyDrive/DeepFake/CELEB-DF/facecropped/real/Video1069.mp4\n"
          ]
        },
        {
          "metadata": {
            "tags": null
          },
          "name": "stderr",
          "output_type": "stream",
          "text": [
            "\r 61%|██████    | 248/405 [1:28:55<1:03:19, 24.20s/it]"
          ]
        },
        {
          "metadata": {
            "tags": null
          },
          "name": "stdout",
          "output_type": "stream",
          "text": [
            "File already exists:  /content/drive/MyDrive/DeepFake/CELEB-DF/facecropped/real/Video1068.mp4\n"
          ]
        },
        {
          "metadata": {
            "tags": null
          },
          "name": "stderr",
          "output_type": "stream",
          "text": [
            " 63%|██████▎   | 256/405 [1:33:32<1:30:27, 36.43s/it]"
          ]
        },
        {
          "metadata": {
            "tags": null
          },
          "name": "stdout",
          "output_type": "stream",
          "text": [
            "File already exists:  /content/drive/MyDrive/DeepFake/CELEB-DF/facecropped/real/Video1081.mp4\n"
          ]
        },
        {
          "metadata": {
            "tags": null
          },
          "name": "stderr",
          "output_type": "stream",
          "text": [
            " 65%|██████▍   | 262/405 [1:36:50<1:26:59, 36.50s/it]"
          ]
        },
        {
          "metadata": {
            "tags": null
          },
          "name": "stdout",
          "output_type": "stream",
          "text": [
            "File already exists:  /content/drive/MyDrive/DeepFake/CELEB-DF/facecropped/real/Video1078.mp4\n"
          ]
        },
        {
          "metadata": {
            "tags": null
          },
          "name": "stderr",
          "output_type": "stream",
          "text": [
            "\r 65%|██████▌   | 264/405 [1:37:30<1:08:30, 29.15s/it]"
          ]
        },
        {
          "metadata": {
            "tags": null
          },
          "name": "stdout",
          "output_type": "stream",
          "text": [
            "File already exists:  /content/drive/MyDrive/DeepFake/CELEB-DF/facecropped/real/Video1047.mp4\n"
          ]
        },
        {
          "metadata": {
            "tags": null
          },
          "name": "stderr",
          "output_type": "stream",
          "text": [
            " 66%|██████▌   | 268/405 [1:39:29<1:11:10, 31.17s/it]"
          ]
        },
        {
          "metadata": {
            "tags": null
          },
          "name": "stdout",
          "output_type": "stream",
          "text": [
            "File already exists:  /content/drive/MyDrive/DeepFake/CELEB-DF/facecropped/real/Video1087.mp4\n"
          ]
        },
        {
          "metadata": {
            "tags": null
          },
          "name": "stderr",
          "output_type": "stream",
          "text": [
            " 70%|███████   | 284/405 [1:49:26<1:20:01, 39.68s/it]"
          ]
        },
        {
          "metadata": {
            "tags": null
          },
          "name": "stdout",
          "output_type": "stream",
          "text": [
            "File already exists:  /content/drive/MyDrive/DeepFake/CELEB-DF/facecropped/real/Video1084.mp4\n",
            "File already exists:  /content/drive/MyDrive/DeepFake/CELEB-DF/facecropped/real/Video1086.mp4\n"
          ]
        },
        {
          "metadata": {
            "tags": null
          },
          "name": "stderr",
          "output_type": "stream",
          "text": [
            " 73%|███████▎  | 294/405 [1:54:44<1:09:47, 37.72s/it]"
          ]
        },
        {
          "metadata": {
            "tags": null
          },
          "name": "stdout",
          "output_type": "stream",
          "text": [
            "File already exists:  /content/drive/MyDrive/DeepFake/CELEB-DF/facecropped/real/Video1090.mp4\n"
          ]
        },
        {
          "metadata": {
            "tags": null
          },
          "name": "stderr",
          "output_type": "stream",
          "text": [
            " 74%|███████▎  | 298/405 [1:56:41<1:00:04, 33.69s/it]"
          ]
        },
        {
          "metadata": {
            "tags": null
          },
          "name": "stdout",
          "output_type": "stream",
          "text": [
            "File already exists:  /content/drive/MyDrive/DeepFake/CELEB-DF/facecropped/real/Video1097.mp4\n"
          ]
        },
        {
          "metadata": {
            "tags": null
          },
          "name": "stderr",
          "output_type": "stream",
          "text": [
            "\r 74%|███████▍  | 300/405 [1:57:21<48:35, 27.77s/it]  "
          ]
        },
        {
          "metadata": {
            "tags": null
          },
          "name": "stdout",
          "output_type": "stream",
          "text": [
            "File already exists:  /content/drive/MyDrive/DeepFake/CELEB-DF/facecropped/real/Video1094.mp4\n"
          ]
        },
        {
          "metadata": {
            "tags": null
          },
          "name": "stderr",
          "output_type": "stream",
          "text": [
            "\r 75%|███████▍  | 302/405 [1:58:00<42:34, 24.81s/it]"
          ]
        },
        {
          "metadata": {
            "tags": null
          },
          "name": "stdout",
          "output_type": "stream",
          "text": [
            "File already exists:  /content/drive/MyDrive/DeepFake/CELEB-DF/facecropped/real/Video1091.mp4\n"
          ]
        },
        {
          "metadata": {
            "tags": null
          },
          "name": "stderr",
          "output_type": "stream",
          "text": [
            " 77%|███████▋  | 311/405 [2:03:18<58:25, 37.30s/it]"
          ]
        },
        {
          "metadata": {
            "tags": null
          },
          "name": "stdout",
          "output_type": "stream",
          "text": [
            "File already exists:  /content/drive/MyDrive/DeepFake/CELEB-DF/facecropped/real/Video1127.mp4\n",
            "File already exists:  /content/drive/MyDrive/DeepFake/CELEB-DF/facecropped/real/Video1049.mp4\n"
          ]
        },
        {
          "metadata": {
            "tags": null
          },
          "name": "stderr",
          "output_type": "stream",
          "text": [
            "\r 78%|███████▊  | 314/405 [2:03:58<36:27, 24.04s/it]"
          ]
        },
        {
          "metadata": {
            "tags": null
          },
          "name": "stdout",
          "output_type": "stream",
          "text": [
            "File already exists:  /content/drive/MyDrive/DeepFake/CELEB-DF/facecropped/real/Video1118.mp4\n",
            "File already exists:  /content/drive/MyDrive/DeepFake/CELEB-DF/facecropped/real/Video1043.mp4\n"
          ]
        },
        {
          "metadata": {
            "tags": null
          },
          "name": "stderr",
          "output_type": "stream",
          "text": [
            "\r 78%|███████▊  | 317/405 [2:04:37<28:15, 19.27s/it]"
          ]
        },
        {
          "metadata": {
            "tags": null
          },
          "name": "stdout",
          "output_type": "stream",
          "text": [
            "File already exists:  /content/drive/MyDrive/DeepFake/CELEB-DF/facecropped/real/Video1095.mp4\n"
          ]
        },
        {
          "metadata": {
            "tags": null
          },
          "name": "stderr",
          "output_type": "stream",
          "text": [
            " 80%|███████▉  | 322/405 [2:07:14<40:07, 29.00s/it]"
          ]
        },
        {
          "metadata": {
            "tags": null
          },
          "name": "stdout",
          "output_type": "stream",
          "text": [
            "File already exists:  /content/drive/MyDrive/DeepFake/CELEB-DF/facecropped/real/Video1041.mp4\n"
          ]
        },
        {
          "metadata": {
            "tags": null
          },
          "name": "stderr",
          "output_type": "stream",
          "text": [
            " 81%|████████  | 327/405 [2:09:49<42:34, 32.75s/it]"
          ]
        },
        {
          "metadata": {
            "tags": null
          },
          "name": "stdout",
          "output_type": "stream",
          "text": [
            "File already exists:  /content/drive/MyDrive/DeepFake/CELEB-DF/facecropped/real/Video1042.mp4\n"
          ]
        },
        {
          "output_type": "stream",
          "name": "stderr",
          "text": [
            " 83%|████████▎ | 337/405 [2:15:41<43:15, 38.18s/it]"
          ]
        },
        {
          "output_type": "stream",
          "name": "stdout",
          "text": [
            "File already exists:  /content/drive/MyDrive/DeepFake/CELEB-DF/facecropped/real/Video1056.mp4\n"
          ]
        },
        {
          "output_type": "stream",
          "name": "stderr",
          "text": [
            "\r 84%|████████▎ | 339/405 [2:16:20<32:36, 29.65s/it]"
          ]
        },
        {
          "output_type": "stream",
          "name": "stdout",
          "text": [
            "File already exists:  /content/drive/MyDrive/DeepFake/CELEB-DF/facecropped/real/Video1130.mp4\n"
          ]
        },
        {
          "output_type": "stream",
          "name": "stderr",
          "text": [
            " 84%|████████▍ | 342/405 [2:17:37<29:50, 28.41s/it]"
          ]
        },
        {
          "output_type": "stream",
          "name": "stdout",
          "text": [
            "File already exists:  /content/drive/MyDrive/DeepFake/CELEB-DF/facecropped/real/Video1125.mp4\n"
          ]
        },
        {
          "output_type": "stream",
          "name": "stderr",
          "text": [
            " 85%|████████▌ | 345/405 [2:18:55<27:57, 27.96s/it]"
          ]
        },
        {
          "output_type": "stream",
          "name": "stdout",
          "text": [
            "File already exists:  /content/drive/MyDrive/DeepFake/CELEB-DF/facecropped/real/Video1096.mp4\n"
          ]
        },
        {
          "output_type": "stream",
          "name": "stderr",
          "text": [
            " 86%|████████▌ | 349/405 [2:20:52<28:29, 30.52s/it]"
          ]
        },
        {
          "output_type": "stream",
          "name": "stdout",
          "text": [
            "File already exists:  /content/drive/MyDrive/DeepFake/CELEB-DF/facecropped/real/Video1133.mp4\n"
          ]
        },
        {
          "output_type": "stream",
          "name": "stderr",
          "text": [
            " 87%|████████▋ | 352/405 [2:22:09<25:22, 28.72s/it]"
          ]
        },
        {
          "output_type": "stream",
          "name": "stdout",
          "text": [
            "File already exists:  /content/drive/MyDrive/DeepFake/CELEB-DF/facecropped/real/Video1109.mp4\n"
          ]
        },
        {
          "output_type": "stream",
          "name": "stderr",
          "text": [
            "\r 87%|████████▋ | 354/405 [2:22:48<21:19, 25.09s/it]"
          ]
        },
        {
          "output_type": "stream",
          "name": "stdout",
          "text": [
            "File already exists:  /content/drive/MyDrive/DeepFake/CELEB-DF/facecropped/real/Video1045.mp4\n",
            "File already exists:  /content/drive/MyDrive/DeepFake/CELEB-DF/facecropped/real/Video1046.mp4\n"
          ]
        },
        {
          "output_type": "stream",
          "name": "stderr",
          "text": [
            "\r 88%|████████▊ | 357/405 [2:23:27<15:43, 19.65s/it]"
          ]
        },
        {
          "output_type": "stream",
          "name": "stdout",
          "text": [
            "File already exists:  /content/drive/MyDrive/DeepFake/CELEB-DF/facecropped/real/Video1121.mp4\n"
          ]
        },
        {
          "output_type": "stream",
          "name": "stderr",
          "text": [
            "\r 89%|████████▊ | 359/405 [2:24:07<15:08, 19.76s/it]"
          ]
        },
        {
          "output_type": "stream",
          "name": "stdout",
          "text": [
            "File already exists:  /content/drive/MyDrive/DeepFake/CELEB-DF/facecropped/real/Video1055.mp4\n",
            "File already exists:  /content/drive/MyDrive/DeepFake/CELEB-DF/facecropped/real/Video1082.mp4\n"
          ]
        },
        {
          "output_type": "stream",
          "name": "stderr",
          "text": [
            " 92%|█████████▏| 371/405 [2:30:42<21:11, 37.39s/it]"
          ]
        },
        {
          "output_type": "stream",
          "name": "stdout",
          "text": [
            "File already exists:  /content/drive/MyDrive/DeepFake/CELEB-DF/facecropped/real/Video1052.mp4\n"
          ]
        },
        {
          "output_type": "stream",
          "name": "stderr",
          "text": [
            "\r 92%|█████████▏| 373/405 [2:31:21<15:42, 29.44s/it]"
          ]
        },
        {
          "output_type": "stream",
          "name": "stdout",
          "text": [
            "File already exists:  /content/drive/MyDrive/DeepFake/CELEB-DF/facecropped/real/Video1123.mp4\n"
          ]
        },
        {
          "output_type": "stream",
          "name": "stderr",
          "text": [
            "\r 93%|█████████▎| 375/405 [2:32:00<12:45, 25.50s/it]"
          ]
        },
        {
          "output_type": "stream",
          "name": "stdout",
          "text": [
            "File already exists:  /content/drive/MyDrive/DeepFake/CELEB-DF/facecropped/real/Video1131.mp4\n"
          ]
        },
        {
          "output_type": "stream",
          "name": "stderr",
          "text": [
            " 94%|█████████▎| 379/405 [2:33:58<12:47, 29.51s/it]"
          ]
        },
        {
          "output_type": "stream",
          "name": "stdout",
          "text": [
            "File already exists:  /content/drive/MyDrive/DeepFake/CELEB-DF/facecropped/real/Video1120.mp4\n"
          ]
        },
        {
          "output_type": "stream",
          "name": "stderr",
          "text": [
            "\r 94%|█████████▍| 381/405 [2:34:31<09:47, 24.46s/it]"
          ]
        },
        {
          "output_type": "stream",
          "name": "stdout",
          "text": [
            "File already exists:  /content/drive/MyDrive/DeepFake/CELEB-DF/facecropped/real/Video1079.mp4\n"
          ]
        },
        {
          "output_type": "stream",
          "name": "stderr",
          "text": [
            " 95%|█████████▌| 385/405 [2:36:32<09:48, 29.41s/it]"
          ]
        },
        {
          "output_type": "stream",
          "name": "stdout",
          "text": [
            "File already exists:  /content/drive/MyDrive/DeepFake/CELEB-DF/facecropped/real/Video1050.mp4\n"
          ]
        },
        {
          "output_type": "stream",
          "name": "stderr",
          "text": [
            " 96%|█████████▌| 388/405 [2:37:51<08:10, 28.84s/it]"
          ]
        },
        {
          "output_type": "stream",
          "name": "stdout",
          "text": [
            "File already exists:  /content/drive/MyDrive/DeepFake/CELEB-DF/facecropped/real/Video1057.mp4\n"
          ]
        },
        {
          "output_type": "stream",
          "name": "stderr",
          "text": [
            "\r 96%|█████████▋| 390/405 [2:38:31<06:21, 25.43s/it]"
          ]
        },
        {
          "output_type": "stream",
          "name": "stdout",
          "text": [
            "File already exists:  /content/drive/MyDrive/DeepFake/CELEB-DF/facecropped/real/Video1093.mp4\n"
          ]
        },
        {
          "output_type": "stream",
          "name": "stderr",
          "text": [
            " 97%|█████████▋| 394/405 [2:40:31<05:28, 29.86s/it]"
          ]
        },
        {
          "output_type": "stream",
          "name": "stdout",
          "text": [
            "File already exists:  /content/drive/MyDrive/DeepFake/CELEB-DF/facecropped/real/Video1132.mp4\n"
          ]
        },
        {
          "output_type": "stream",
          "name": "stderr",
          "text": [
            " 99%|█████████▊| 399/405 [2:43:14<03:26, 34.37s/it]"
          ]
        },
        {
          "output_type": "stream",
          "name": "stdout",
          "text": [
            "File already exists:  /content/drive/MyDrive/DeepFake/CELEB-DF/facecropped/real/Video1054.mp4\n"
          ]
        },
        {
          "output_type": "stream",
          "name": "stderr",
          "text": [
            " 99%|█████████▉| 402/405 [2:44:35<01:33, 31.15s/it]"
          ]
        },
        {
          "output_type": "stream",
          "name": "stdout",
          "text": [
            "File already exists:  /content/drive/MyDrive/DeepFake/CELEB-DF/facecropped/real/Video1108.mp4\n"
          ]
        },
        {
          "output_type": "stream",
          "name": "stderr",
          "text": [
            "100%|██████████| 405/405 [2:45:55<00:00, 24.58s/it]\n"
          ]
        }
      ],
      "source": [
        "import cv2\n",
        "import os\n",
        "import glob\n",
        "import face_recognition\n",
        "from tqdm import tqdm\n",
        "\n",
        "# Function to extract frames from a video\n",
        "def extract_frames(video_path):\n",
        "    frames = []\n",
        "    vidObj = cv2.VideoCapture(video_path)\n",
        "    success = True\n",
        "    while success:\n",
        "        success, image = vidObj.read()\n",
        "        if success:\n",
        "            frames.append(image)\n",
        "    return frames\n",
        "\n",
        "# Function to detect faces in frames and save cropped face video clips\n",
        "def create_face_videos(video_paths, output_dir):\n",
        "    already_present_count = len(glob.glob(os.path.join(output_dir, '*.mp4')))\n",
        "    print(\"Number of videos already present: \", already_present_count)\n",
        "\n",
        "    for video_path in tqdm(video_paths):\n",
        "        out_path = os.path.join(output_dir, os.path.basename(video_path))\n",
        "        if os.path.exists(out_path):\n",
        "            print(\"File already exists: \", out_path)\n",
        "            continue\n",
        "\n",
        "        frames = extract_frames(video_path)\n",
        "        frame_count = len(frames)\n",
        "        out = cv2.VideoWriter(out_path, cv2.VideoWriter_fourcc('M','J','P','G'), 30, (112, 112))\n",
        "\n",
        "        for idx, frame in enumerate(frames):\n",
        "            if idx <= 150:  # Process only the first 150 frames\n",
        "                faces = face_recognition.face_locations(frame)\n",
        "                if faces:\n",
        "                    top, right, bottom, left = faces[0]\n",
        "                    face_frame = frame[top:bottom, left:right, :]\n",
        "                    resized_face = cv2.resize(face_frame, (112, 112))\n",
        "                    out.write(resized_face)\n",
        "\n",
        "        out.release()\n",
        "\n",
        "# Example usage\n",
        "video_paths = glob.glob(\"/content/drive/MyDrive/DeepFake/CELEB-DF/real/*.mp4\")\n",
        "output_directory = '/content/drive/MyDrive/DeepFake/CELEB-DF/facecropped/real'\n",
        "create_face_videos(video_paths, output_directory)\n"
      ]
    },
    {
      "cell_type": "code",
      "source": [
        "import cv2\n",
        "import os\n",
        "import glob\n",
        "import face_recognition\n",
        "from tqdm import tqdm\n",
        "\n",
        "# Function to extract frames from a video\n",
        "def extract_frames(video_path):\n",
        "    frames = []\n",
        "    vidObj = cv2.VideoCapture(video_path)\n",
        "    success = True\n",
        "    while success:\n",
        "        success, image = vidObj.read()\n",
        "        if success:\n",
        "            frames.append(image)\n",
        "    return frames\n",
        "\n",
        "# Function to detect faces in frames and save cropped face video clips\n",
        "def create_face_videos(video_paths, output_dir):\n",
        "    already_present_count = len(glob.glob(os.path.join(output_dir, '*.mp4')))\n",
        "    print(\"Number of videos already present: \", already_present_count)\n",
        "\n",
        "    for video_path in tqdm(video_paths):\n",
        "        out_path = os.path.join(output_dir, os.path.basename(video_path))\n",
        "        if os.path.exists(out_path):\n",
        "            print(\"File already exists: \", out_path)\n",
        "            continue\n",
        "\n",
        "        frames = extract_frames(video_path)\n",
        "        frame_count = len(frames)\n",
        "        out = cv2.VideoWriter(out_path, cv2.VideoWriter_fourcc('M','J','P','G'), 30, (112, 112))\n",
        "\n",
        "        for idx, frame in enumerate(frames):\n",
        "            if idx <= 150:  # Process only the first 150 frames\n",
        "                faces = face_recognition.face_locations(frame)\n",
        "                if faces:\n",
        "                    top, right, bottom, left = faces[0]\n",
        "                    face_frame = frame[top:bottom, left:right, :]\n",
        "                    resized_face = cv2.resize(face_frame, (112, 112))\n",
        "                    out.write(resized_face)\n",
        "\n",
        "        out.release()\n",
        "\n",
        "# Example usage\n",
        "video_paths = glob.glob(\"/content/drive/MyDrive/DeepFake/CELEB-DF/fake/*.mp4\")\n",
        "output_directory = '/content/drive/MyDrive/DeepFake/CELEB-DF/facecropped/fake'\n",
        "create_face_videos(video_paths, output_directory)\n"
      ],
      "metadata": {
        "id": "oWEI0aWRFrua",
        "colab": {
          "base_uri": "https://localhost:8080/"
        },
        "outputId": "276a263e-bb63-45dd-b903-2e650558bd00"
      },
      "execution_count": null,
      "outputs": [
        {
          "output_type": "stream",
          "name": "stdout",
          "text": [
            "Number of videos already present:  148\n"
          ]
        },
        {
          "output_type": "stream",
          "name": "stderr",
          "text": [
            "\r  0%|          | 0/795 [00:00<?, ?it/s]"
          ]
        },
        {
          "output_type": "stream",
          "name": "stdout",
          "text": [
            "File already exists:  /content/drive/MyDrive/DeepFake/CELEB-DF/facecropped/fake/Video252.mp4\n",
            "File already exists:  /content/drive/MyDrive/DeepFake/CELEB-DF/facecropped/fake/Video52.mp4\n",
            "File already exists:  /content/drive/MyDrive/DeepFake/CELEB-DF/facecropped/fake/Video580.mp4\n",
            "File already exists:  /content/drive/MyDrive/DeepFake/CELEB-DF/facecropped/fake/Video581.mp4\n",
            "File already exists:  /content/drive/MyDrive/DeepFake/CELEB-DF/facecropped/fake/Video53.mp4\n",
            "File already exists:  /content/drive/MyDrive/DeepFake/CELEB-DF/facecropped/fake/Video80.mp4\n",
            "File already exists:  /content/drive/MyDrive/DeepFake/CELEB-DF/facecropped/fake/Video81.mp4\n",
            "File already exists:  /content/drive/MyDrive/DeepFake/CELEB-DF/facecropped/fake/Video54.mp4\n",
            "File already exists:  /content/drive/MyDrive/DeepFake/CELEB-DF/facecropped/fake/Video271.mp4\n",
            "File already exists:  /content/drive/MyDrive/DeepFake/CELEB-DF/facecropped/fake/Video82.mp4\n",
            "File already exists:  /content/drive/MyDrive/DeepFake/CELEB-DF/facecropped/fake/Video187.mp4\n",
            "File already exists:  /content/drive/MyDrive/DeepFake/CELEB-DF/facecropped/fake/Video272.mp4\n",
            "File already exists:  /content/drive/MyDrive/DeepFake/CELEB-DF/facecropped/fake/Video83.mp4\n",
            "File already exists:  /content/drive/MyDrive/DeepFake/CELEB-DF/facecropped/fake/Video188.mp4\n",
            "File already exists:  /content/drive/MyDrive/DeepFake/CELEB-DF/facecropped/fake/Video55.mp4\n",
            "File already exists:  /content/drive/MyDrive/DeepFake/CELEB-DF/facecropped/fake/Video396.mp4\n",
            "File already exists:  /content/drive/MyDrive/DeepFake/CELEB-DF/facecropped/fake/Video84.mp4\n",
            "File already exists:  /content/drive/MyDrive/DeepFake/CELEB-DF/facecropped/fake/Video189.mp4\n",
            "File already exists:  /content/drive/MyDrive/DeepFake/CELEB-DF/facecropped/fake/Video273.mp4\n",
            "File already exists:  /content/drive/MyDrive/DeepFake/CELEB-DF/facecropped/fake/Video56.mp4\n",
            "File already exists:  /content/drive/MyDrive/DeepFake/CELEB-DF/facecropped/fake/Video531.mp4\n",
            "File already exists:  /content/drive/MyDrive/DeepFake/CELEB-DF/facecropped/fake/Video397.mp4\n",
            "File already exists:  /content/drive/MyDrive/DeepFake/CELEB-DF/facecropped/fake/Video190.mp4\n",
            "File already exists:  /content/drive/MyDrive/DeepFake/CELEB-DF/facecropped/fake/Video85.mp4\n",
            "File already exists:  /content/drive/MyDrive/DeepFake/CELEB-DF/facecropped/fake/Video733.mp4\n",
            "File already exists:  /content/drive/MyDrive/DeepFake/CELEB-DF/facecropped/fake/Video191.mp4\n",
            "File already exists:  /content/drive/MyDrive/DeepFake/CELEB-DF/facecropped/fake/Video293.mp4\n",
            "File already exists:  /content/drive/MyDrive/DeepFake/CELEB-DF/facecropped/fake/Video86.mp4\n",
            "File already exists:  /content/drive/MyDrive/DeepFake/CELEB-DF/facecropped/fake/Video57.mp4\n",
            "File already exists:  /content/drive/MyDrive/DeepFake/CELEB-DF/facecropped/fake/Video639.mp4\n",
            "File already exists:  /content/drive/MyDrive/DeepFake/CELEB-DF/facecropped/fake/Video532.mp4\n",
            "File already exists:  /content/drive/MyDrive/DeepFake/CELEB-DF/facecropped/fake/Video734.mp4\n",
            "File already exists:  /content/drive/MyDrive/DeepFake/CELEB-DF/facecropped/fake/Video192.mp4\n",
            "File already exists:  /content/drive/MyDrive/DeepFake/CELEB-DF/facecropped/fake/Video398.mp4\n",
            "File already exists:  /content/drive/MyDrive/DeepFake/CELEB-DF/facecropped/fake/Video87.mp4\n",
            "File already exists:  /content/drive/MyDrive/DeepFake/CELEB-DF/facecropped/fake/Video735.mp4\n",
            "File already exists:  /content/drive/MyDrive/DeepFake/CELEB-DF/facecropped/fake/Video294.mp4\n",
            "File already exists:  /content/drive/MyDrive/DeepFake/CELEB-DF/facecropped/fake/Video193.mp4\n",
            "File already exists:  /content/drive/MyDrive/DeepFake/CELEB-DF/facecropped/fake/Video640.mp4\n",
            "File already exists:  /content/drive/MyDrive/DeepFake/CELEB-DF/facecropped/fake/Video736.mp4\n",
            "File already exists:  /content/drive/MyDrive/DeepFake/CELEB-DF/facecropped/fake/Video88.mp4\n",
            "File already exists:  /content/drive/MyDrive/DeepFake/CELEB-DF/facecropped/fake/Video533.mp4\n",
            "File already exists:  /content/drive/MyDrive/DeepFake/CELEB-DF/facecropped/fake/Video58.mp4\n",
            "File already exists:  /content/drive/MyDrive/DeepFake/CELEB-DF/facecropped/fake/Video737.mp4\n",
            "File already exists:  /content/drive/MyDrive/DeepFake/CELEB-DF/facecropped/fake/Video194.mp4\n",
            "File already exists:  /content/drive/MyDrive/DeepFake/CELEB-DF/facecropped/fake/Video89.mp4\n",
            "File already exists:  /content/drive/MyDrive/DeepFake/CELEB-DF/facecropped/fake/Video295.mp4\n",
            "File already exists:  /content/drive/MyDrive/DeepFake/CELEB-DF/facecropped/fake/Video534.mp4\n"
          ]
        },
        {
          "output_type": "stream",
          "name": "stderr",
          "text": [
            "\r  6%|▌         | 49/795 [00:38<09:47,  1.27it/s]"
          ]
        },
        {
          "output_type": "stream",
          "name": "stdout",
          "text": [
            "File already exists:  /content/drive/MyDrive/DeepFake/CELEB-DF/facecropped/fake/Video195.mp4\n"
          ]
        },
        {
          "output_type": "stream",
          "name": "stderr",
          "text": [
            "\r  6%|▋         | 51/795 [01:19<23:09,  1.87s/it]"
          ]
        },
        {
          "output_type": "stream",
          "name": "stdout",
          "text": [
            "File already exists:  /content/drive/MyDrive/DeepFake/CELEB-DF/facecropped/fake/Video90.mp4\n",
            "File already exists:  /content/drive/MyDrive/DeepFake/CELEB-DF/facecropped/fake/Video641.mp4\n"
          ]
        },
        {
          "output_type": "stream",
          "name": "stderr",
          "text": [
            "\r  7%|▋         | 54/795 [01:57<37:00,  3.00s/it]"
          ]
        },
        {
          "output_type": "stream",
          "name": "stdout",
          "text": [
            "File already exists:  /content/drive/MyDrive/DeepFake/CELEB-DF/facecropped/fake/Video59.mp4\n",
            "File already exists:  /content/drive/MyDrive/DeepFake/CELEB-DF/facecropped/fake/Video400.mp4\n",
            "File already exists:  /content/drive/MyDrive/DeepFake/CELEB-DF/facecropped/fake/Video196.mp4\n",
            "File already exists:  /content/drive/MyDrive/DeepFake/CELEB-DF/facecropped/fake/Video91.mp4\n",
            "File already exists:  /content/drive/MyDrive/DeepFake/CELEB-DF/facecropped/fake/Video619.mp4\n",
            "File already exists:  /content/drive/MyDrive/DeepFake/CELEB-DF/facecropped/fake/Video296.mp4\n",
            "File already exists:  /content/drive/MyDrive/DeepFake/CELEB-DF/facecropped/fake/Video535.mp4\n"
          ]
        },
        {
          "output_type": "stream",
          "name": "stderr",
          "text": [
            "  9%|▊         | 69/795 [06:23<4:21:03, 21.57s/it]"
          ]
        },
        {
          "output_type": "stream",
          "name": "stdout",
          "text": [
            "File already exists:  /content/drive/MyDrive/DeepFake/CELEB-DF/facecropped/fake/Video536.mp4\n"
          ]
        },
        {
          "output_type": "stream",
          "name": "stderr",
          "text": [
            " 10%|▉         | 78/795 [10:29<5:54:46, 29.69s/it]"
          ]
        },
        {
          "output_type": "stream",
          "name": "stdout",
          "text": [
            "File already exists:  /content/drive/MyDrive/DeepFake/CELEB-DF/facecropped/fake/Video537.mp4\n"
          ]
        },
        {
          "output_type": "stream",
          "name": "stderr",
          "text": [
            " 21%|██        | 164/795 [58:28<5:58:14, 34.06s/it]"
          ]
        },
        {
          "output_type": "stream",
          "name": "stdout",
          "text": [
            "File already exists:  /content/drive/MyDrive/DeepFake/CELEB-DF/facecropped/fake/Video642.mp4\n"
          ]
        },
        {
          "output_type": "stream",
          "name": "stderr",
          "text": [
            " 22%|██▏       | 174/795 [1:03:02<5:22:13, 31.13s/it]"
          ]
        },
        {
          "output_type": "stream",
          "name": "stdout",
          "text": [
            "File already exists:  /content/drive/MyDrive/DeepFake/CELEB-DF/facecropped/fake/Video643.mp4\n"
          ]
        },
        {
          "output_type": "stream",
          "name": "stderr",
          "text": [
            " 26%|██▌       | 203/795 [1:18:38<5:22:42, 32.71s/it]"
          ]
        },
        {
          "output_type": "stream",
          "name": "stdout",
          "text": [
            "File already exists:  /content/drive/MyDrive/DeepFake/CELEB-DF/facecropped/fake/Video125.mp4\n"
          ]
        },
        {
          "output_type": "stream",
          "name": "stderr",
          "text": [
            " 27%|██▋       | 212/795 [1:23:12<5:36:55, 34.67s/it]"
          ]
        },
        {
          "output_type": "stream",
          "name": "stdout",
          "text": [
            "File already exists:  /content/drive/MyDrive/DeepFake/CELEB-DF/facecropped/fake/Video126.mp4\n"
          ]
        },
        {
          "output_type": "stream",
          "name": "stderr",
          "text": [
            " 27%|██▋       | 218/795 [1:25:56<4:53:46, 30.55s/it]"
          ]
        },
        {
          "output_type": "stream",
          "name": "stdout",
          "text": [
            "File already exists:  /content/drive/MyDrive/DeepFake/CELEB-DF/facecropped/fake/Video127.mp4\n"
          ]
        },
        {
          "output_type": "stream",
          "name": "stderr",
          "text": [
            " 30%|███       | 239/795 [1:37:18<4:57:17, 32.08s/it]"
          ]
        },
        {
          "output_type": "stream",
          "name": "stdout",
          "text": [
            "File already exists:  /content/drive/MyDrive/DeepFake/CELEB-DF/facecropped/fake/Video130.mp4\n"
          ]
        },
        {
          "output_type": "stream",
          "name": "stderr",
          "text": [
            " 31%|███       | 244/795 [1:39:26<4:22:00, 28.53s/it]"
          ]
        },
        {
          "output_type": "stream",
          "name": "stdout",
          "text": [
            "File already exists:  /content/drive/MyDrive/DeepFake/CELEB-DF/facecropped/fake/Video131.mp4\n"
          ]
        },
        {
          "output_type": "stream",
          "name": "stderr",
          "text": [
            " 31%|███▏      | 249/795 [1:41:54<4:45:41, 31.39s/it]"
          ]
        },
        {
          "output_type": "stream",
          "name": "stdout",
          "text": [
            "File already exists:  /content/drive/MyDrive/DeepFake/CELEB-DF/facecropped/fake/Video654.mp4\n"
          ]
        },
        {
          "output_type": "stream",
          "name": "stderr",
          "text": [
            " 32%|███▏      | 252/795 [1:42:44<3:32:08, 23.44s/it]"
          ]
        },
        {
          "output_type": "stream",
          "name": "stdout",
          "text": [
            "File already exists:  /content/drive/MyDrive/DeepFake/CELEB-DF/facecropped/fake/Video132.mp4\n"
          ]
        },
        {
          "output_type": "stream",
          "name": "stderr",
          "text": [
            " 32%|███▏      | 257/795 [1:44:51<3:58:30, 26.60s/it]"
          ]
        },
        {
          "output_type": "stream",
          "name": "stdout",
          "text": [
            "File already exists:  /content/drive/MyDrive/DeepFake/CELEB-DF/facecropped/fake/Video720.mp4\n",
            "File already exists:  /content/drive/MyDrive/DeepFake/CELEB-DF/facecropped/fake/Video133.mp4\n"
          ]
        },
        {
          "output_type": "stream",
          "name": "stderr",
          "text": [
            " 33%|███▎      | 265/795 [1:48:16<4:17:59, 29.21s/it]"
          ]
        },
        {
          "output_type": "stream",
          "name": "stdout",
          "text": [
            "File already exists:  /content/drive/MyDrive/DeepFake/CELEB-DF/facecropped/fake/Video721.mp4\n",
            "File already exists:  /content/drive/MyDrive/DeepFake/CELEB-DF/facecropped/fake/Video319.mp4\n"
          ]
        },
        {
          "output_type": "stream",
          "name": "stderr",
          "text": [
            " 34%|███▍      | 274/795 [1:52:37<5:03:02, 34.90s/it]"
          ]
        },
        {
          "output_type": "stream",
          "name": "stdout",
          "text": [
            "File already exists:  /content/drive/MyDrive/DeepFake/CELEB-DF/facecropped/fake/Video722.mp4\n"
          ]
        },
        {
          "output_type": "stream",
          "name": "stderr",
          "text": [
            " 35%|███▌      | 281/795 [1:55:54<4:14:22, 29.69s/it]"
          ]
        },
        {
          "output_type": "stream",
          "name": "stdout",
          "text": [
            "File already exists:  /content/drive/MyDrive/DeepFake/CELEB-DF/facecropped/fake/Video723.mp4\n"
          ]
        },
        {
          "output_type": "stream",
          "name": "stderr",
          "text": [
            " 38%|███▊      | 306/795 [2:09:33<4:54:27, 36.13s/it]"
          ]
        },
        {
          "output_type": "stream",
          "name": "stdout",
          "text": [
            "File already exists:  /content/drive/MyDrive/DeepFake/CELEB-DF/facecropped/fake/Video278.mp4\n"
          ]
        },
        {
          "output_type": "stream",
          "name": "stderr",
          "text": [
            " 40%|████      | 318/795 [2:16:11<4:25:33, 33.40s/it]"
          ]
        },
        {
          "output_type": "stream",
          "name": "stdout",
          "text": [
            "File already exists:  /content/drive/MyDrive/DeepFake/CELEB-DF/facecropped/fake/Video324.mp4\n"
          ]
        },
        {
          "output_type": "stream",
          "name": "stderr",
          "text": [
            " 41%|████      | 327/795 [2:20:41<4:36:50, 35.49s/it]"
          ]
        },
        {
          "output_type": "stream",
          "name": "stdout",
          "text": [
            "File already exists:  /content/drive/MyDrive/DeepFake/CELEB-DF/facecropped/fake/Video325.mp4\n"
          ]
        },
        {
          "output_type": "stream",
          "name": "stderr",
          "text": [
            "\r 41%|████▏     | 329/795 [2:21:05<3:12:33, 24.79s/it]"
          ]
        },
        {
          "output_type": "stream",
          "name": "stdout",
          "text": [
            "File already exists:  /content/drive/MyDrive/DeepFake/CELEB-DF/facecropped/fake/Video118.mp4\n"
          ]
        },
        {
          "output_type": "stream",
          "name": "stderr",
          "text": [
            " 42%|████▏     | 334/795 [2:23:07<3:07:44, 24.43s/it]"
          ]
        },
        {
          "output_type": "stream",
          "name": "stdout",
          "text": [
            "File already exists:  /content/drive/MyDrive/DeepFake/CELEB-DF/facecropped/fake/Video119.mp4\n"
          ]
        },
        {
          "output_type": "stream",
          "name": "stderr",
          "text": [
            " 43%|████▎     | 338/795 [2:24:53<3:28:41, 27.40s/it]"
          ]
        }
      ]
    }
  ],
  "metadata": {
    "kernelspec": {
      "display_name": "Python 3",
      "name": "python3"
    },
    "language_info": {
      "codemirror_mode": {
        "name": "ipython",
        "version": 3
      },
      "file_extension": ".py",
      "mimetype": "text/x-python",
      "name": "python",
      "nbconvert_exporter": "python",
      "pygments_lexer": "ipython3",
      "version": "3.11.5"
    },
    "colab": {
      "provenance": [],
      "machine_shape": "hm",
      "include_colab_link": true
    }
  },
  "nbformat": 4,
  "nbformat_minor": 0
}