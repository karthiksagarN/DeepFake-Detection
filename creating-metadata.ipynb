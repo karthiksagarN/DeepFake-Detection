{
 "cells": [
  {
   "cell_type": "code",
   "execution_count": 1,
   "metadata": {},
   "outputs": [
    {
     "data": {
      "text/plain": [
       "150"
      ]
     },
     "execution_count": 1,
     "metadata": {},
     "output_type": "execute_result"
    }
   ],
   "source": [
    "import csv\n",
    "\n",
    "# List of video file names\n",
    "video_files = [\n",
    "    \"id0_0000.mp4\", \"id0_0001.mp4\", \"id0_0002.mp4\", \"id0_0003.mp4\", \"id0_0004.mp4\",\n",
    "    \"Id9_0005.mp4\", \"Id9_0006.mp4\", \"id9_0007.mp4\", \"Id9_0008.mp4\", \"id9_0009.mp4\",\n",
    "    \"id0_0005.mp4\", \"id0_0006.mp4\", \"id0_0007.mp4\", \"id0_0008.mp4\", \"id0_0009.mp4\",\n",
    "    \"id10_0000.mp4\", \"id10_0001.mp4\", \"id10_0002.mp4\", \"id10_0003.mp4\", \"id10_0004.mp4\",\n",
    "    \"id1_0000.mp4\", \"id1_0001.mp4\", \"id1_0002.mp4\", \"id1_0003.mp4\", \"id1_0004.mp4\",\n",
    "    \"id10_0005.mp4\", \"id10_0006.mp4\", \"id10_0007.mp4\", \"id10_0008.mp4\", \"id10_0009.mp4\",\n",
    "    \"id1_0005.mp4\", \"id1_0006.mp4\", \"id1_0007.mp4\", \"id1_0008.mp4\", \"id1_0009.mp4\",\n",
    "    \"Id11_0000.mp4\", \"id11_0001.mp4\", \"id11_0002.mp4\", \"id11_0003.mp4\", \"id11_0004.mp4\",\n",
    "    \"id2_0000.mp4\", \"id2_0001.mp4\", \"id2_0002.mp4\", \"id2_0003.mp4\", \"id2_0004.mp4\",\n",
    "    \"id11_0005.mp4\", \"id11_0006.mp4\", \"id11_0007.mp4\", \"id11_0008.mp4\", \"id11_0009.mp4\",\n",
    "    \"id2_0005.mp4\", \"id2_0006.mp4\", \"id2_0007.mp4\", \"id2_0008.mp4\", \"id2_0009.mp4\",\n",
    "    \"id11_0010.mp4\", \"id12_0000.mp4\", \"id12_0001.mp4\", \"id12_0002.mp4\", \"id12_0003.mp4\",\n",
    "    \"id3_0000.mp4\", \"id3_0001.mp4\", \"Id3_0002.mp4\", \"Id3_0003.mp4\", \"id3_0004.mp4\",\n",
    "    \"id12_0004.mp4\", \"id12_0005.mp4\", \"id12_0006.mp4\", \"id13_0000.mp4\", \"id13_0001.mp4\",\n",
    "    \"id3_0005.mp4\", \"id3_0006.mp4\", \"id3_0007.mp4\", \"id3_0008.mp4\", \"id3_0009.mp4\",\n",
    "    \"id13_0002.mp4\", \"id13_0003.mp4\", \"id13_0004.mp4\", \"id13_0005.mp4\", \"id13_0006.mp4\",\n",
    "    \"id4_0000.mp4\", \"id4_0001.mp4\", \"id4_0002.mp4\", \"id4_0003.mp4\", \"id4_0004.mp4\",\n",
    "    \"id13_0007.mp4\", \"id13_0008.mp4\", \"id13_0009.mp4\", \"id13_0010.mp4\", \"id13_0011.mp4\",\n",
    "    \"id4_0005.mp4\", \"id4_0006.mp4\", \"id4_0007.mp4\", \"id4_0008.mp4\", \"id4_0009.mp4\",\n",
    "    \"id13_0012.mp4\", \"id13_0013.mp4\", \"id13_0014.mp4\", \"id13_0015.mp4\", \"id16_0000.mp4\",\n",
    "    \"id6_0000.mp4\", \"id6_0001.mp4\", \"id6_0002.mp4\", \"id6_0003.mp4\", \"id6_0004.mp4\",\n",
    "    \"id16_0001.mp4\", \"id16_0002.mp4\", \"id16_0003.mp4\", \"id16_0004.mp4\", \"id16_0005.mp4\",\n",
    "    \"id6_0005.mp4\", \"id6_0006.mp4\", \"id6_0007.mp4\", \"id6_0008.mp4\", \"id6_0009.mp4\",\n",
    "    \"id16_0006.mp4\", \"id16_0007.mp4\", \"id16_0008.mp4\", \"id16_0009.mp4\", \"id16_0010.mp4\",\n",
    "    \"id7_0000.mp4\", \"id7_0001.mp4\", \"id7_0002.mp4\", \"id7_0003.mp4\", \"id7_0004.mp4\",\n",
    "    \"id16_0011.mp4\", \"id16_0012.mp4\", \"id16_0013.mp4\", \"id17_0000.mp4\", \"id17_0001.mp4\",\n",
    "    \"id7_0005.mp4\", \"id7_0006.mp4\", \"id7_0007.mp4\", \"id7_0008.mp4\", \"id7_0009.mp4\",\n",
    "    \"id8_0005.mp4\", \"id8_0006.mp4\", \"id8_0007.mp4\", \"id8_0008.mp4\", \"id8_0009.mp4\",\n",
    "    \"id8_0000.mp4\", \"id8_0001.mp4\", \"id8_0002.mp4\", \"id8_0003.mp4\", \"id8_0004.mp4\",\n",
    "    \"id9_0000.mp4\", \"id9_0001.mp4\", \"id9_0002.mp4\", \"id9_0003.mp4\", \"id9_0004.mp4\"\n",
    "]\n",
    "\n",
    "len(video_files)\n"
   ]
  },
  {
   "cell_type": "code",
   "execution_count": 2,
   "metadata": {},
   "outputs": [
    {
     "name": "stdout",
     "output_type": "stream",
     "text": [
      "metadata.csv created successfully!\n"
     ]
    }
   ],
   "source": [
    "# Writing metadata to CSV file\n",
    "with open('metadata.csv', 'w', newline='') as csvfile:\n",
    "    fieldnames = ['filename', 'label']\n",
    "    writer = csv.DictWriter(csvfile, fieldnames=fieldnames)\n",
    "    writer.writeheader()\n",
    "    \n",
    "    for filename in video_files:\n",
    "        writer.writerow({'filename': filename, 'label': 'REAL'})\n",
    "\n",
    "print(\"metadata.csv created successfully!\")"
   ]
  },
  {
   "cell_type": "code",
   "execution_count": 9,
   "metadata": {},
   "outputs": [],
   "source": [
    "import pandas as pd\n",
    "from sklearn.utils import shuffle\n",
    "\n",
    "# Read the CSV data into a DataFrame\n",
    "df = pd.read_csv('metadata.csv')\n",
    "\n",
    "# Separate the data into 'REAL' and 'FAKE' subsets\n",
    "# real_data = df[df['label'] == 'REAL']\n",
    "# fake_data = df[df['label'] == 'FAKE']\n",
    "\n",
    "# Shuffle the 'REAL' and 'FAKE' subsets separately\n",
    "# real_data = shuffle(real_data)\n",
    "# fake_data = shuffle(fake_data)\n",
    "data = shuffle(df)\n",
    "\n",
    "# # Concatenate the shuffled subsets back into one DataFrame\n",
    "# shuffled_data = pd.concat([real_data, fake_data], ignore_index=True)\n",
    "\n",
    "# # Save the shuffled data to a new CSV file\n",
    "# shuffled_data.to_csv('shuffled_data.csv', index=False)\n",
    "data.to_csv(\"metadata-shuffled.csv\", index=False)\n"
   ]
  },
  {
   "cell_type": "code",
   "execution_count": null,
   "metadata": {},
   "outputs": [],
   "source": []
  }
 ],
 "metadata": {
  "kernelspec": {
   "display_name": "base",
   "language": "python",
   "name": "python3"
  },
  "language_info": {
   "codemirror_mode": {
    "name": "ipython",
    "version": 3
   },
   "file_extension": ".py",
   "mimetype": "text/x-python",
   "name": "python",
   "nbconvert_exporter": "python",
   "pygments_lexer": "ipython3",
   "version": "3.11.5"
  }
 },
 "nbformat": 4,
 "nbformat_minor": 2
}
